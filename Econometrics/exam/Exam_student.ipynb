{
 "cells": [
  {
   "cell_type": "markdown",
   "id": "continent-providence",
   "metadata": {},
   "source": [
    "# Академия Аналитиков Авито"
   ]
  },
  {
   "cell_type": "markdown",
   "id": "sexual-friendly",
   "metadata": {},
   "source": [
    "# Эконометрика"
   ]
  },
  {
   "cell_type": "markdown",
   "id": "dated-property",
   "metadata": {},
   "source": [
    "# Экзамен"
   ]
  },
  {
   "cell_type": "markdown",
   "id": "coordinate-dream",
   "metadata": {},
   "source": [
    "## Задача 1 (40 баллов)"
   ]
  },
  {
   "cell_type": "markdown",
   "id": "swedish-eligibility",
   "metadata": {},
   "source": [
    "- Итак, у вас есть небольшой датасет `insurance.csv` с затратами на мед. страхование"
   ]
  },
  {
   "cell_type": "code",
   "execution_count": null,
   "id": "continued-breach",
   "metadata": {
    "ExecuteTime": {
     "end_time": "2021-04-26T15:49:42.939446Z",
     "start_time": "2021-04-26T15:49:42.927452Z"
    }
   },
   "outputs": [],
   "source": [
    "# Давайте загрузим данные\n"
   ]
  },
  {
   "cell_type": "code",
   "execution_count": null,
   "id": "exciting-louisiana",
   "metadata": {
    "ExecuteTime": {
     "end_time": "2021-04-26T15:49:43.120454Z",
     "start_time": "2021-04-26T15:49:43.102453Z"
    }
   },
   "outputs": [],
   "source": [
    "# Посмотрим на них\n"
   ]
  },
  {
   "cell_type": "markdown",
   "id": "indirect-danish",
   "metadata": {},
   "source": [
    "- age: возраст\n",
    "\n",
    "- sex: пол\n",
    "\n",
    "- bmi: индекс массы тела\n",
    "\n",
    "- children: кол-во детей, которое покрывает страховка\n",
    "\n",
    "- smoker: курильщик или нет\n",
    "\n",
    "- region: регион\n",
    "\n",
    "- charges: затраты на страховку"
   ]
  },
  {
   "cell_type": "code",
   "execution_count": null,
   "id": "spatial-behalf",
   "metadata": {
    "ExecuteTime": {
     "end_time": "2021-04-26T15:50:01.242482Z",
     "start_time": "2021-04-26T15:50:01.224484Z"
    }
   },
   "outputs": [],
   "source": [
    "# У нас есть явно дискретные, в том числе и бинарные, признаки. Давайте сделаем что-нибудь с этим\n"
   ]
  },
  {
   "cell_type": "markdown",
   "id": "intellectual-introduction",
   "metadata": {},
   "source": [
    "- Переменные преобразованы, теперь можно и порисовать что-нибудь"
   ]
  },
  {
   "cell_type": "code",
   "execution_count": null,
   "id": "geographic-forwarding",
   "metadata": {
    "ExecuteTime": {
     "end_time": "2021-04-26T15:56:56.827174Z",
     "start_time": "2021-04-26T15:56:56.293183Z"
    }
   },
   "outputs": [],
   "source": [
    "# Начнем с корреляций\n"
   ]
  },
  {
   "cell_type": "markdown",
   "id": "dramatic-colleague",
   "metadata": {},
   "source": [
    "**Выводы:**\n"
   ]
  },
  {
   "cell_type": "code",
   "execution_count": null,
   "id": "combined-quarterly",
   "metadata": {
    "ExecuteTime": {
     "end_time": "2021-04-26T23:11:16.495307Z",
     "start_time": "2021-04-26T23:10:53.433835Z"
    }
   },
   "outputs": [],
   "source": [
    "# Так-так, а что с гистограммами и парными графиками \n"
   ]
  },
  {
   "cell_type": "markdown",
   "id": "elegant-bobby",
   "metadata": {},
   "source": [
    "**Выводы:**\n"
   ]
  },
  {
   "cell_type": "code",
   "execution_count": null,
   "id": "pharmaceutical-certification",
   "metadata": {
    "ExecuteTime": {
     "end_time": "2021-04-26T23:13:38.783563Z",
     "start_time": "2021-04-26T23:13:38.778565Z"
    }
   },
   "outputs": [],
   "source": [
    "# Тут можно получить доп. баллы за более глубокий EDA анализ. Подумайте, какие перменные можно рассмотреть более детально\n"
   ]
  },
  {
   "cell_type": "markdown",
   "id": "unlikely-ending",
   "metadata": {},
   "source": [
    "- Так, пришла пора для регрессии"
   ]
  },
  {
   "cell_type": "code",
   "execution_count": null,
   "id": "consolidated-portland",
   "metadata": {
    "ExecuteTime": {
     "end_time": "2021-04-26T16:09:18.686782Z",
     "start_time": "2021-04-26T16:09:18.669777Z"
    }
   },
   "outputs": [],
   "source": [
    "# Постройте первую версию модели с теми признаками, которые вы считаете должны быть включены в модель\n"
   ]
  },
  {
   "cell_type": "code",
   "execution_count": null,
   "id": "interstate-conservation",
   "metadata": {
    "ExecuteTime": {
     "end_time": "2021-04-26T16:09:34.445506Z",
     "start_time": "2021-04-26T16:09:34.420503Z"
    }
   },
   "outputs": [],
   "source": [
    "# Выведите результаты модели\n"
   ]
  },
  {
   "cell_type": "markdown",
   "id": "basic-employee",
   "metadata": {},
   "source": [
    "**Выводы:**\n"
   ]
  },
  {
   "cell_type": "markdown",
   "id": "worldwide-associate",
   "metadata": {},
   "source": [
    "- Пришла пора проверять предпосылки теоремы Г.М."
   ]
  },
  {
   "cell_type": "markdown",
   "id": "knowing-loading",
   "metadata": {},
   "source": [
    "- Давайте проверим мультиколлинеарность"
   ]
  },
  {
   "cell_type": "code",
   "execution_count": null,
   "id": "excess-sector",
   "metadata": {
    "ExecuteTime": {
     "end_time": "2021-04-26T23:22:47.038421Z",
     "start_time": "2021-04-26T23:22:47.007426Z"
    }
   },
   "outputs": [],
   "source": []
  },
  {
   "cell_type": "markdown",
   "id": "republican-vault",
   "metadata": {},
   "source": [
    "**Выводы:**\n"
   ]
  },
  {
   "cell_type": "markdown",
   "id": "approximate-priority",
   "metadata": {},
   "source": [
    "- Давайте проверим гетероскедастичность"
   ]
  },
  {
   "cell_type": "code",
   "execution_count": null,
   "id": "latter-cocktail",
   "metadata": {
    "ExecuteTime": {
     "end_time": "2021-04-26T16:11:39.239803Z",
     "start_time": "2021-04-26T16:11:39.173277Z"
    }
   },
   "outputs": [],
   "source": []
  },
  {
   "cell_type": "markdown",
   "id": "tamil-disclaimer",
   "metadata": {},
   "source": [
    "**Выводы:**\n"
   ]
  },
  {
   "cell_type": "markdown",
   "id": "wooden-morgan",
   "metadata": {},
   "source": [
    "- Как интересно\n",
    "- А если мы посмотрим на другие факторы, которые стоит учитывать при построении линейной регрессии"
   ]
  },
  {
   "cell_type": "code",
   "execution_count": null,
   "id": "short-reflection",
   "metadata": {
    "ExecuteTime": {
     "end_time": "2021-04-26T23:26:11.272309Z",
     "start_time": "2021-04-26T23:26:11.267296Z"
    }
   },
   "outputs": [],
   "source": [
    "# Сделайте еще один тест/проверку и объясните, почему вы выбрали именно этот тест/проверку\n",
    "# Либо попытайтесь улучшить вашу модель, но объясните, какую метрику вы будете использовать\n"
   ]
  },
  {
   "cell_type": "markdown",
   "id": "restricted-channel",
   "metadata": {},
   "source": [
    "**Выводы:**\n"
   ]
  },
  {
   "cell_type": "markdown",
   "id": "lightweight-brazil",
   "metadata": {},
   "source": [
    "- Наконец, давайте посмотрим на финальную версию вашей модели, если вы все же решили ее поменять после всех тестов"
   ]
  },
  {
   "cell_type": "code",
   "execution_count": null,
   "id": "aggregate-meditation",
   "metadata": {},
   "outputs": [],
   "source": []
  },
  {
   "cell_type": "markdown",
   "id": "optical-background",
   "metadata": {},
   "source": [
    "**Финальные выводы:**"
   ]
  },
  {
   "cell_type": "markdown",
   "id": "athletic-bahamas",
   "metadata": {},
   "source": [
    "## Задача 2 (30 баллов)"
   ]
  },
  {
   "cell_type": "markdown",
   "id": "marine-murray",
   "metadata": {},
   "source": [
    "- Перейдем к супер измученному датасету с выжившими пассажирами Титаника `Titanic`"
   ]
  },
  {
   "cell_type": "code",
   "execution_count": null,
   "id": "neural-ferry",
   "metadata": {
    "ExecuteTime": {
     "end_time": "2021-04-26T15:49:42.939446Z",
     "start_time": "2021-04-26T15:49:42.927452Z"
    }
   },
   "outputs": [],
   "source": [
    "# Давайте загрузим данные\n"
   ]
  },
  {
   "cell_type": "code",
   "execution_count": null,
   "id": "greater-contractor",
   "metadata": {
    "ExecuteTime": {
     "end_time": "2021-04-26T23:37:25.311795Z",
     "start_time": "2021-04-26T23:37:25.287801Z"
    }
   },
   "outputs": [],
   "source": [
    "# Посмотрим на них\n"
   ]
  },
  {
   "cell_type": "markdown",
   "id": "abstract-humor",
   "metadata": {},
   "source": [
    "| | | |\n",
    "|---|---|---|\n",
    "|Переменная|Определение|Значения|\n",
    "|survival|Выжил ли пассажир|0 = Нет, 1 = Да|\n",
    "|pclass|Класс билета|1 = 1-й, 2 = 2-й, 3 = 3-й|\n",
    "|sex|Пол||\t\n",
    "|Age|Возраст|лет|\n",
    "|sibsp|# кол-во братьев\\сестер или супругов на борту||\n",
    "|parch|# кол-во родителей\\детей на борту||\n",
    "|ticket|Номер билета||\n",
    "|fare|Стоимость билета||\n",
    "|cabin|Номер кабины||\n",
    "|embarked|Порт посадки|C = Cherbourg, Q = Queenstown, S = Southampton|"
   ]
  },
  {
   "cell_type": "code",
   "execution_count": null,
   "id": "transparent-blues",
   "metadata": {
    "ExecuteTime": {
     "end_time": "2021-04-27T00:05:54.752160Z",
     "start_time": "2021-04-27T00:05:54.723160Z"
    }
   },
   "outputs": [],
   "source": [
    "# От предобработки данных не уйти. \n",
    "# Во-первых, есть NaN значения. Что делаем?\n",
    "# Во-вторых, есть категориальные признаки. Что делаем?\n"
   ]
  },
  {
   "cell_type": "code",
   "execution_count": null,
   "id": "special-snapshot",
   "metadata": {
    "ExecuteTime": {
     "end_time": "2021-04-27T00:03:54.839656Z",
     "start_time": "2021-04-27T00:03:54.392125Z"
    }
   },
   "outputs": [],
   "source": [
    "# Начнем с корреляций\n"
   ]
  },
  {
   "cell_type": "markdown",
   "id": "decimal-omaha",
   "metadata": {},
   "source": [
    "**Выводы:**\n"
   ]
  },
  {
   "cell_type": "code",
   "execution_count": null,
   "id": "introductory-middle",
   "metadata": {
    "ExecuteTime": {
     "end_time": "2021-04-27T00:06:36.766312Z",
     "start_time": "2021-04-27T00:06:15.089982Z"
    }
   },
   "outputs": [],
   "source": [
    "# Так-так, а что с гистограммами и парными графиками \n"
   ]
  },
  {
   "cell_type": "markdown",
   "id": "breeding-powell",
   "metadata": {},
   "source": [
    "**Выводы:**\n"
   ]
  },
  {
   "cell_type": "markdown",
   "id": "possible-salem",
   "metadata": {},
   "source": [
    "- Перейдем к регрессиям"
   ]
  },
  {
   "cell_type": "code",
   "execution_count": null,
   "id": "healthy-oracle",
   "metadata": {
    "ExecuteTime": {
     "end_time": "2021-04-27T00:08:17.216344Z",
     "start_time": "2021-04-27T00:08:17.160344Z"
    }
   },
   "outputs": [],
   "source": [
    "# Постройте первую версию модели (логит или пробит, на ваш вкус) с теми признаками, которые вы считаете должны быть включены в модель\n"
   ]
  },
  {
   "cell_type": "markdown",
   "id": "dated-graham",
   "metadata": {},
   "source": [
    "- Надеюсь, что вы помните, есть такая вещь как предельный эффект\n",
    "- Вот давайте посмотрим, на эти самые предельные эффекты для среднего пассажира"
   ]
  },
  {
   "cell_type": "code",
   "execution_count": null,
   "id": "executed-transition",
   "metadata": {
    "ExecuteTime": {
     "end_time": "2021-04-27T00:10:04.370383Z",
     "start_time": "2021-04-27T00:10:04.345390Z"
    }
   },
   "outputs": [],
   "source": []
  },
  {
   "cell_type": "code",
   "execution_count": null,
   "id": "atmospheric-visit",
   "metadata": {
    "ExecuteTime": {
     "end_time": "2021-04-27T00:12:01.830007Z",
     "start_time": "2021-04-27T00:12:01.817006Z"
    }
   },
   "outputs": [],
   "source": [
    "# Ну и выведете все-таки, кто такой \"средний\" пассажир\n"
   ]
  },
  {
   "cell_type": "markdown",
   "id": "solar-heart",
   "metadata": {},
   "source": [
    "**Выводы**"
   ]
  },
  {
   "cell_type": "markdown",
   "id": "liked-sound",
   "metadata": {},
   "source": [
    "- Наконец, давайте вообще поймем адекватность модели\n",
    "- Посчитайте Accuracy, Recall, Precision, $F_1$\n",
    "- Нарисуйте ROC AUC"
   ]
  },
  {
   "cell_type": "code",
   "execution_count": null,
   "id": "republican-interim",
   "metadata": {
    "ExecuteTime": {
     "end_time": "2021-04-27T00:48:29.012542Z",
     "start_time": "2021-04-27T00:48:28.730543Z"
    }
   },
   "outputs": [],
   "source": []
  },
  {
   "cell_type": "markdown",
   "id": "fancy-street",
   "metadata": {},
   "source": [
    "**Выводы**"
   ]
  },
  {
   "cell_type": "code",
   "execution_count": null,
   "id": "satisfied-twenty",
   "metadata": {
    "ExecuteTime": {
     "end_time": "2021-04-26T23:26:11.272309Z",
     "start_time": "2021-04-26T23:26:11.267296Z"
    }
   },
   "outputs": [],
   "source": [
    "# Попытайтесь улучшить вашу модель, но объясните, какую метрику вы будете использовать. Одной итерации достаточно.\n",
    "# Если получилось улучшить, то хорошо, если нет, то попробуйте объяснить, почему не получилось\n"
   ]
  },
  {
   "cell_type": "markdown",
   "id": "palestinian-services",
   "metadata": {},
   "source": [
    "**Выводы:**\n"
   ]
  },
  {
   "cell_type": "markdown",
   "id": "significant-greenhouse",
   "metadata": {},
   "source": [
    "- Наконец, давайте посмотрим на финальную версию вашей модели и предельные эффекты"
   ]
  },
  {
   "cell_type": "code",
   "execution_count": null,
   "id": "unauthorized-matthew",
   "metadata": {},
   "outputs": [],
   "source": []
  },
  {
   "cell_type": "markdown",
   "id": "legendary-label",
   "metadata": {},
   "source": [
    "**Финальные выводы:**"
   ]
  },
  {
   "cell_type": "markdown",
   "id": "addressed-giant",
   "metadata": {},
   "source": [
    "## Задача 3 (30 баллов) "
   ]
  },
  {
   "cell_type": "markdown",
   "id": "posted-jamaica",
   "metadata": {},
   "source": [
    "- Итак, последнее задание \n",
    "- Вам надо получить котировки акций копмпании Тесла (`TSLA`)\n",
    "- Можете воспользоваться либо `yfinance`, либо `tsla.csv`. Во втором случае советую применить метод к датафрейму `set_index('Date', drop=True, inplace=True)`"
   ]
  },
  {
   "cell_type": "code",
   "execution_count": null,
   "id": "aquatic-clearing",
   "metadata": {
    "ExecuteTime": {
     "end_time": "2021-04-27T00:59:22.291047Z",
     "start_time": "2021-04-27T00:59:22.285051Z"
    }
   },
   "outputs": [],
   "source": [
    "# Получаем данные\n"
   ]
  },
  {
   "cell_type": "code",
   "execution_count": null,
   "id": "limiting-lunch",
   "metadata": {
    "ExecuteTime": {
     "end_time": "2021-04-27T01:03:01.753660Z",
     "start_time": "2021-04-27T01:03:01.733653Z"
    }
   },
   "outputs": [],
   "source": [
    "# Смотрим на первые строки\n"
   ]
  },
  {
   "cell_type": "code",
   "execution_count": null,
   "id": "retired-scheme",
   "metadata": {
    "ExecuteTime": {
     "end_time": "2021-04-27T00:54:15.980694Z",
     "start_time": "2021-04-27T00:54:15.974696Z"
    }
   },
   "outputs": [],
   "source": [
    "# Берем только скорректированную цену закрытия\n"
   ]
  },
  {
   "cell_type": "code",
   "execution_count": null,
   "id": "muslim-internet",
   "metadata": {
    "ExecuteTime": {
     "end_time": "2021-04-27T00:54:31.423773Z",
     "start_time": "2021-04-27T00:54:30.994120Z"
    }
   },
   "outputs": [],
   "source": [
    "# Рисуем ее\n"
   ]
  },
  {
   "cell_type": "code",
   "execution_count": null,
   "id": "revolutionary-seating",
   "metadata": {
    "ExecuteTime": {
     "end_time": "2021-04-27T00:55:28.357376Z",
     "start_time": "2021-04-27T00:55:28.297379Z"
    }
   },
   "outputs": [],
   "source": [
    "# Проверям на стационарность\n"
   ]
  },
  {
   "cell_type": "markdown",
   "id": "hired-bible",
   "metadata": {},
   "source": [
    "**Вывод:**"
   ]
  },
  {
   "cell_type": "code",
   "execution_count": null,
   "id": "sapphire-scholar",
   "metadata": {
    "ExecuteTime": {
     "end_time": "2021-04-27T00:55:51.410942Z",
     "start_time": "2021-04-27T00:55:51.402941Z"
    }
   },
   "outputs": [],
   "source": [
    "# Если вы считаете, что необходимо преобразовать данные, то сделайте это, нарисуйте графики, и проверьте на стационарность\n"
   ]
  },
  {
   "cell_type": "code",
   "execution_count": null,
   "id": "opening-plymouth",
   "metadata": {},
   "outputs": [],
   "source": [
    "# Нарисуйте ACF, PACF вашего стационарного ряда"
   ]
  },
  {
   "cell_type": "code",
   "execution_count": null,
   "id": "human-assumption",
   "metadata": {},
   "outputs": [],
   "source": []
  },
  {
   "cell_type": "markdown",
   "id": "resident-bronze",
   "metadata": {},
   "source": [
    "- Пришла пора перейти к моделям.\n",
    "- Используйте AR(1), MA(1) и ARMA(1, 1) модели\n",
    "- Выведите их результаты и сравните модели по метрике, которой считаете подходящей (объясните, почему вы ее считаете подходящей)"
   ]
  },
  {
   "cell_type": "code",
   "execution_count": null,
   "id": "cardiovascular-imagination",
   "metadata": {},
   "outputs": [],
   "source": []
  },
  {
   "cell_type": "code",
   "execution_count": null,
   "id": "identified-stake",
   "metadata": {
    "ExecuteTime": {
     "end_time": "2021-04-27T00:57:52.357972Z",
     "start_time": "2021-04-27T00:57:52.337973Z"
    },
    "scrolled": true
   },
   "outputs": [],
   "source": [
    "# Не забудьте посмотреть на автокорреляции с помощью теста Льюнга—Бокса\n"
   ]
  },
  {
   "cell_type": "markdown",
   "id": "federal-tutorial",
   "metadata": {},
   "source": [
    "**Выводы:**"
   ]
  },
  {
   "cell_type": "markdown",
   "id": "transsexual-indication",
   "metadata": {},
   "source": [
    "- А теперь попробуем найти модель лучше"
   ]
  },
  {
   "cell_type": "code",
   "execution_count": null,
   "id": "static-motel",
   "metadata": {},
   "outputs": [],
   "source": []
  },
  {
   "cell_type": "markdown",
   "id": "velvet-discussion",
   "metadata": {},
   "source": [
    "**Выводы:**"
   ]
  },
  {
   "cell_type": "markdown",
   "id": "imposed-continuity",
   "metadata": {},
   "source": [
    "- Покажите финальную модель и сделайте **финальные выводы**\n"
   ]
  },
  {
   "cell_type": "markdown",
   "id": "biological-positive",
   "metadata": {},
   "source": []
  }
 ],
 "metadata": {
  "kernelspec": {
   "display_name": "Python 3",
   "language": "python",
   "name": "python3"
  },
  "language_info": {
   "codemirror_mode": {
    "name": "ipython",
    "version": 3
   },
   "file_extension": ".py",
   "mimetype": "text/x-python",
   "name": "python",
   "nbconvert_exporter": "python",
   "pygments_lexer": "ipython3",
   "version": "3.8.5"
  },
  "toc": {
   "base_numbering": 1,
   "nav_menu": {
    "height": "12px",
    "width": "160px"
   },
   "number_sections": true,
   "sideBar": true,
   "skip_h1_title": true,
   "title_cell": "Table of Contents",
   "title_sidebar": "Contents",
   "toc_cell": false,
   "toc_position": {},
   "toc_section_display": true,
   "toc_window_display": false
  },
  "varInspector": {
   "cols": {
    "lenName": 16,
    "lenType": 16,
    "lenVar": 40
   },
   "kernels_config": {
    "python": {
     "delete_cmd_postfix": "",
     "delete_cmd_prefix": "del ",
     "library": "var_list.py",
     "varRefreshCmd": "print(var_dic_list())"
    },
    "r": {
     "delete_cmd_postfix": ") ",
     "delete_cmd_prefix": "rm(",
     "library": "var_list.r",
     "varRefreshCmd": "cat(var_dic_list()) "
    }
   },
   "types_to_exclude": [
    "module",
    "function",
    "builtin_function_or_method",
    "instance",
    "_Feature"
   ],
   "window_display": false
  }
 },
 "nbformat": 4,
 "nbformat_minor": 5
}
