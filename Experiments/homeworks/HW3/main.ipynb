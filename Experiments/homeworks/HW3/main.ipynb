{
  "nbformat": 4,
  "nbformat_minor": 0,
  "metadata": {
    "colab": {
      "name": "Home_task_3.ipynb",
      "provenance": [],
      "collapsed_sections": [],
      "toc_visible": true
    },
    "kernelspec": {
      "display_name": "Python 3",
      "language": "python",
      "name": "python3"
    },
    "language_info": {
      "codemirror_mode": {
        "name": "ipython",
        "version": 3
      },
      "file_extension": ".py",
      "mimetype": "text/x-python",
      "name": "python",
      "nbconvert_exporter": "python",
      "pygments_lexer": "ipython3",
      "version": "3.8.6"
    }
  },
  "cells": [
    {
      "cell_type": "code",
      "metadata": {
        "colab": {
          "base_uri": "https://localhost:8080/"
        },
        "id": "_fXNfUkyfJLg",
        "outputId": "12ff141a-1a88-44bf-ad7c-3e1c9c9d0500"
      },
      "source": [
        "!mkdir data\n",
        "!wget https://github.com/yk4r2/AAA/blob/main/Experiments/homeworks/HW3/data/user_amount_var_reduction.tar.xz?raw=true -O data/user_amount_var_reduction.tar.xz"
      ],
      "execution_count": null,
      "outputs": [
        {
          "output_type": "stream",
          "text": [
            "mkdir: cannot create directory ‘data’: File exists\n",
            "--2021-04-15 21:46:15--  https://github.com/yk4r2/AAA/blob/main/Experiments/homeworks/HW3/data/user_amount_var_reduction.tar.xz?raw=true\n",
            "Resolving github.com (github.com)... 140.82.112.4\n",
            "Connecting to github.com (github.com)|140.82.112.4|:443... connected.\n",
            "HTTP request sent, awaiting response... 302 Found\n",
            "Location: https://github.com/yk4r2/AAA/raw/main/Experiments/homeworks/HW3/data/user_amount_var_reduction.tar.xz [following]\n",
            "--2021-04-15 21:46:16--  https://github.com/yk4r2/AAA/raw/main/Experiments/homeworks/HW3/data/user_amount_var_reduction.tar.xz\n",
            "Reusing existing connection to github.com:443.\n",
            "HTTP request sent, awaiting response... 302 Found\n",
            "Location: https://raw.githubusercontent.com/yk4r2/AAA/main/Experiments/homeworks/HW3/data/user_amount_var_reduction.tar.xz [following]\n",
            "--2021-04-15 21:46:16--  https://raw.githubusercontent.com/yk4r2/AAA/main/Experiments/homeworks/HW3/data/user_amount_var_reduction.tar.xz\n",
            "Resolving raw.githubusercontent.com (raw.githubusercontent.com)... 185.199.108.133, 185.199.109.133, 185.199.110.133, ...\n",
            "Connecting to raw.githubusercontent.com (raw.githubusercontent.com)|185.199.108.133|:443... connected.\n",
            "HTTP request sent, awaiting response... 200 OK\n",
            "Length: 95544100 (91M) [application/octet-stream]\n",
            "Saving to: ‘data/user_amount_var_reduction.tar.xz’\n",
            "\n",
            "data/user_amount_va 100%[===================>]  91.12M  38.1MB/s    in 2.4s    \n",
            "\n",
            "2021-04-15 21:46:18 (38.1 MB/s) - ‘data/user_amount_var_reduction.tar.xz’ saved [95544100/95544100]\n",
            "\n"
          ],
          "name": "stdout"
        }
      ]
    },
    {
      "cell_type": "code",
      "metadata": {
        "id": "8pn8Cxr-fS4h"
      },
      "source": [
        "!tar -xf data/user_amount_var_reduction.tar.xz"
      ],
      "execution_count": null,
      "outputs": []
    },
    {
      "cell_type": "code",
      "metadata": {
        "id": "fyvHf6Dic2BT"
      },
      "source": [
        "import pandas as pd\n",
        "import matplotlib.pyplot as plt\n",
        "import numpy as np\n",
        "import seaborn as sns\n",
        "import datetime\n",
        "from datetime import timedelta\n",
        "import random\n",
        "from statsmodels.stats.power import tt_ind_solve_power\n",
        "from math import ceil\n",
        "\n",
        "def date_converter(x):\n",
        "    return datetime.datetime.strptime(x,'%Y-%m-%d')"
      ],
      "execution_count": null,
      "outputs": []
    },
    {
      "cell_type": "markdown",
      "metadata": {
        "id": "c2lSx9UYc2Bc"
      },
      "source": [
        "### Задание 3\n",
        "**Срок сдачи: 04 апреля 21:00**\n",
        "\n",
        "**Финальный срок сдачи с понижением балов до 50%: 09 апреля 21:00**\n",
        "\n",
        "В этом задание вы будете работать с выручкой - метрикой с достаточно высокой дисперсией и соответственно низкой чувствительностью к изменениям.\n",
        "\n",
        "Вам предстоит разработать подход по повышению чувствительности этой метрики.\n",
        "От успеха данной инициативы зависит то, как быстро мы сможем проверять продуктовые гипотезы."
      ]
    },
    {
      "cell_type": "markdown",
      "metadata": {
        "id": "FEUJPzsZc2Bd"
      },
      "source": [
        "#### Для планирования эксперимента изучите данные и метрики (2 балла):\n",
        "\n",
        "- Загрузите файл и изучите данные;\n",
        "- Постройте графики плотности распределения для этих метрик и сделайте выводы о характере распределений: тип, наличие выбросов, насколько сильный разброс.\n",
        "- Изучите основные статистики метрики: среднее, стандартное отклонение;\n",
        "- Изучите то, насколько эти статистики подвержены сезональности;\n",
        "- Изучите то, как эти статистики изменяются внутри срезов: user_segment, region, category\n",
        "\n",
        "#### Предскажите минимально детектируемый эффект (MDE) (2 балла):\n",
        "\n",
        "- Для размеров тестовых групп 10%, 25%, 50% и длительностей 30, 60, 90 дней предскажите минимально детектируемый эффект;\n",
        "\n",
        "\n",
        "#### CUPED (6 баллов)\n",
        "Разработайте подход по снижению дисперсии на основе методики CUPED:\n",
        "\n",
        "- Рассчитайте CUPED метрику на основе данных за периода в 30 дней перед предполагаемым периодом сбора основной выборки и опишите как изменился MDE для выборок 50/50%, собранных за 30 дней (2 балла). \n",
        "- Проверьте насколько данный подход подвержен сезональности. Как меняется MDE, если применять данный подход в разные периоды (2 балла). \n",
        "- Оптимизируйте подход варьируя количество дней до теста, которые вы будете для расчёта CUPED метрики. Какое максимальное снижение MDE вы смогли достичь (2 балла).\n",
        "\n",
        "\n",
        "\n",
        "#### * Стратификация (4 балла) (задание для получения дополнительных баллов)\n",
        "Разработайте подход по снижению дисперсии на основе методики стратификации выборок:\n",
        "\n",
        "- Стратифицируйте выборки внутри срезов user_segment, region, category\n",
        "- Рассчитайте стратифицированные среднее,стандартное отклонение для этих выборок и MDE для теста 50/50% длительностью 30 дней.\n",
        "- В каких срезах достигается наибольшее снижение MDE?\n"
      ]
    },
    {
      "cell_type": "markdown",
      "metadata": {
        "id": "cwIH_Ze1c2Bf"
      },
      "source": [
        "#### Описание данныx\n",
        "\n",
        "event_date - дата \n",
        "\n",
        "user_id - идентификатор пользователя\n",
        "\n",
        "user_segment - тип продукта\n",
        "\n",
        "region - регион\n",
        "\n",
        "category - категория авито\n",
        "\n",
        "revenue_amount - сумма покупок\n"
      ]
    },
    {
      "cell_type": "markdown",
      "metadata": {
        "id": "Amr8if6riVZc"
      },
      "source": [
        "### Загрузка датасета + первый взгляд"
      ]
    },
    {
      "cell_type": "code",
      "metadata": {
        "id": "9IPGENrcc2Bj"
      },
      "source": [
        "df = pd.read_csv('user_amount_var_reduction.csv')\n",
        "df['event_date'] = df.event_date.apply(date_converter)"
      ],
      "execution_count": null,
      "outputs": []
    },
    {
      "cell_type": "code",
      "metadata": {
        "colab": {
          "base_uri": "https://localhost:8080/",
          "height": 206
        },
        "id": "TS6ktskSdvYM",
        "outputId": "855f2714-3f6f-4e3e-86df-577323c4a401"
      },
      "source": [
        "df.sample(5)"
      ],
      "execution_count": null,
      "outputs": [
        {
          "output_type": "execute_result",
          "data": {
            "text/html": [
              "<div>\n",
              "<style scoped>\n",
              "    .dataframe tbody tr th:only-of-type {\n",
              "        vertical-align: middle;\n",
              "    }\n",
              "\n",
              "    .dataframe tbody tr th {\n",
              "        vertical-align: top;\n",
              "    }\n",
              "\n",
              "    .dataframe thead th {\n",
              "        text-align: right;\n",
              "    }\n",
              "</style>\n",
              "<table border=\"1\" class=\"dataframe\">\n",
              "  <thead>\n",
              "    <tr style=\"text-align: right;\">\n",
              "      <th></th>\n",
              "      <th>event_date</th>\n",
              "      <th>user_id</th>\n",
              "      <th>user_segment</th>\n",
              "      <th>category</th>\n",
              "      <th>region</th>\n",
              "      <th>revenue_amount</th>\n",
              "    </tr>\n",
              "  </thead>\n",
              "  <tbody>\n",
              "    <tr>\n",
              "      <th>4446276</th>\n",
              "      <td>2019-09-30</td>\n",
              "      <td>1650301927494156673</td>\n",
              "      <td>4626944681007198896</td>\n",
              "      <td>3619272498251215842</td>\n",
              "      <td>4698304106702583730</td>\n",
              "      <td>14</td>\n",
              "    </tr>\n",
              "    <tr>\n",
              "      <th>6622382</th>\n",
              "      <td>2019-11-05</td>\n",
              "      <td>3833610671196796266</td>\n",
              "      <td>2376074197230840906</td>\n",
              "      <td>1472231361867825698</td>\n",
              "      <td>8020568142410910978</td>\n",
              "      <td>133</td>\n",
              "    </tr>\n",
              "    <tr>\n",
              "      <th>4465935</th>\n",
              "      <td>2019-09-17</td>\n",
              "      <td>2666147064822167482</td>\n",
              "      <td>2376074197230840906</td>\n",
              "      <td>57514010642945023</td>\n",
              "      <td>5780543780372929118</td>\n",
              "      <td>974</td>\n",
              "    </tr>\n",
              "    <tr>\n",
              "      <th>417757</th>\n",
              "      <td>2019-06-28</td>\n",
              "      <td>6977231699988281671</td>\n",
              "      <td>853431062533847667</td>\n",
              "      <td>6742557862815872936</td>\n",
              "      <td>3855810523611026650</td>\n",
              "      <td>1091</td>\n",
              "    </tr>\n",
              "    <tr>\n",
              "      <th>8285442</th>\n",
              "      <td>2019-10-21</td>\n",
              "      <td>5977246750949925652</td>\n",
              "      <td>4626944681007198896</td>\n",
              "      <td>4394253463123676325</td>\n",
              "      <td>5147573593228829405</td>\n",
              "      <td>35</td>\n",
              "    </tr>\n",
              "  </tbody>\n",
              "</table>\n",
              "</div>"
            ],
            "text/plain": [
              "        event_date              user_id  ...               region  revenue_amount\n",
              "4446276 2019-09-30  1650301927494156673  ...  4698304106702583730              14\n",
              "6622382 2019-11-05  3833610671196796266  ...  8020568142410910978             133\n",
              "4465935 2019-09-17  2666147064822167482  ...  5780543780372929118             974\n",
              "417757  2019-06-28  6977231699988281671  ...  3855810523611026650            1091\n",
              "8285442 2019-10-21  5977246750949925652  ...  5147573593228829405              35\n",
              "\n",
              "[5 rows x 6 columns]"
            ]
          },
          "metadata": {
            "tags": []
          },
          "execution_count": 11
        }
      ]
    },
    {
      "cell_type": "code",
      "metadata": {
        "colab": {
          "base_uri": "https://localhost:8080/"
        },
        "id": "bLNNzm7rd4rQ",
        "outputId": "07216da4-eb61-415d-f69c-717be7ea7a96"
      },
      "source": [
        "df.shape"
      ],
      "execution_count": null,
      "outputs": [
        {
          "output_type": "execute_result",
          "data": {
            "text/plain": [
              "(8625842, 6)"
            ]
          },
          "metadata": {
            "tags": []
          },
          "execution_count": 12
        }
      ]
    },
    {
      "cell_type": "markdown",
      "metadata": {
        "id": "nTeqnDDWiVTZ"
      },
      "source": [
        "Жесть он тяжёлый. Будем пока работать с маленькой версией."
      ]
    },
    {
      "cell_type": "code",
      "metadata": {
        "id": "sV_rylU9iemX"
      },
      "source": [
        "light_df = df[['event_date', 'user_id','revenue_amount']]"
      ],
      "execution_count": null,
      "outputs": []
    },
    {
      "cell_type": "code",
      "metadata": {
        "colab": {
          "base_uri": "https://localhost:8080/",
          "height": 355
        },
        "id": "6D4tWuOZothu",
        "outputId": "5fed37d4-38d1-415a-86f6-79bb2f2b2689"
      },
      "source": [
        "sns.distplot(light_df['revenue_amount'])"
      ],
      "execution_count": null,
      "outputs": [
        {
          "output_type": "stream",
          "text": [
            "/usr/local/lib/python3.7/dist-packages/seaborn/distributions.py:2557: FutureWarning: `distplot` is a deprecated function and will be removed in a future version. Please adapt your code to use either `displot` (a figure-level function with similar flexibility) or `histplot` (an axes-level function for histograms).\n",
            "  warnings.warn(msg, FutureWarning)\n"
          ],
          "name": "stderr"
        },
        {
          "output_type": "execute_result",
          "data": {
            "text/plain": [
              "<matplotlib.axes._subplots.AxesSubplot at 0x7f710654f350>"
            ]
          },
          "metadata": {
            "tags": []
          },
          "execution_count": 13
        },
        {
          "output_type": "display_data",
          "data": {
            "image/png": "[encoded data removed]",
            "text/plain": [
              "<Figure size 432x288 with 1 Axes>"
            ]
          },
          "metadata": {
            "tags": []
          }
        }
      ]
    },
    {
      "cell_type": "markdown",
      "metadata": {
        "id": "J38j48HfrUVa"
      },
      "source": [
        "Давайте посмотрим, как часто у нас выходила выручка больше 2.000?"
      ]
    },
    {
      "cell_type": "code",
      "metadata": {
        "colab": {
          "base_uri": "https://localhost:8080/"
        },
        "id": "GxzEY0FDqiSP",
        "outputId": "a81641b2-bce2-4d37-fde1-befb12652538"
      },
      "source": [
        "len(light_df[light_df['revenue_amount'] > 2000]) / len(light_df)"
      ],
      "execution_count": null,
      "outputs": [
        {
          "output_type": "execute_result",
          "data": {
            "text/plain": [
              "0.02548087479459976"
            ]
          },
          "metadata": {
            "tags": []
          },
          "execution_count": 18
        }
      ]
    },
    {
      "cell_type": "markdown",
      "metadata": {
        "id": "TBA1OWZErhwZ"
      },
      "source": [
        "Около 2.5%. Давайте отрежем, чтоб посмотреть поближе на характер распределения."
      ]
    },
    {
      "cell_type": "code",
      "metadata": {
        "colab": {
          "base_uri": "https://localhost:8080/",
          "height": 355
        },
        "id": "GjRVYnEdrOhc",
        "outputId": "cb74947e-b2d9-4d6e-c4a1-adfb7eb072eb"
      },
      "source": [
        "sns.distplot(light_df[light_df['revenue_amount'] < 2000].revenue_amount)"
      ],
      "execution_count": null,
      "outputs": [
        {
          "output_type": "stream",
          "text": [
            "/usr/local/lib/python3.7/dist-packages/seaborn/distributions.py:2557: FutureWarning: `distplot` is a deprecated function and will be removed in a future version. Please adapt your code to use either `displot` (a figure-level function with similar flexibility) or `histplot` (an axes-level function for histograms).\n",
            "  warnings.warn(msg, FutureWarning)\n"
          ],
          "name": "stderr"
        },
        {
          "output_type": "execute_result",
          "data": {
            "text/plain": [
              "<matplotlib.axes._subplots.AxesSubplot at 0x7f70fa39d4d0>"
            ]
          },
          "metadata": {
            "tags": []
          },
          "execution_count": 19
        },
        {
          "output_type": "display_data",
          "data": {
            "image/png": "[encoded data removed]",
            "text/plain": [
              "<Figure size 432x288 with 1 Axes>"
            ]
          },
          "metadata": {
            "tags": []
          }
        }
      ]
    },
    {
      "cell_type": "markdown",
      "metadata": {
        "id": "YdpgZbzWtS_r"
      },
      "source": [
        "Тип распределения: хвостатое, мегапохоже на гамму.\n",
        "\n",
        "Наличие выбросов: есть выбросы, из которых сформирован тяжёлый хвост. Дальше 2000 около 2.5% транзакций, дальше 10000 около 0.1%.\n",
        "\n",
        "Разброс: сильный, учитывая околонулевую медиану и наличие транзакций стоимостью 300.000"
      ]
    },
    {
      "cell_type": "code",
      "metadata": {
        "colab": {
          "base_uri": "https://localhost:8080/"
        },
        "id": "9OXx51UbsJFd",
        "outputId": "29441989-93a6-406e-a1a0-1b8f37680f71"
      },
      "source": [
        "main_metric = light_df['revenue_amount']\n",
        "print(f'mean = {main_metric.mean()}, median = {main_metric.median()}, mode = {main_metric.mode().values[0]}')"
      ],
      "execution_count": null,
      "outputs": [
        {
          "output_type": "stream",
          "text": [
            "mean = 400.9046571917269, median = 167.0, mode = 90\n"
          ],
          "name": "stdout"
        }
      ]
    },
    {
      "cell_type": "code",
      "metadata": {
        "colab": {
          "base_uri": "https://localhost:8080/",
          "height": 335
        },
        "id": "8t8L3K5vuIAA",
        "outputId": "e0239349-9dec-4fd8-f9cf-071c5fcd6d88"
      },
      "source": [
        "ax = sns.boxplot(main_metric[main_metric < 2000])\n",
        "ax.axvline(main_metric.mean(), color='r', label='mean')\n",
        "ax.axvline(main_metric.median(), color='g', label='median')\n",
        "ax.axvline(main_metric.mode().values[0], color='b', label='mode')\n",
        "ax.legend()"
      ],
      "execution_count": null,
      "outputs": [
        {
          "output_type": "stream",
          "text": [
            "/usr/local/lib/python3.7/dist-packages/seaborn/_decorators.py:43: FutureWarning: Pass the following variable as a keyword arg: x. From version 0.12, the only valid positional argument will be `data`, and passing other arguments without an explicit keyword will result in an error or misinterpretation.\n",
            "  FutureWarning\n"
          ],
          "name": "stderr"
        },
        {
          "output_type": "execute_result",
          "data": {
            "text/plain": [
              "<matplotlib.legend.Legend at 0x7f70f9c747d0>"
            ]
          },
          "metadata": {
            "tags": []
          },
          "execution_count": 37
        },
        {
          "output_type": "display_data",
          "data": {
            "image/png": "[encoded data removed]",
            "text/plain": [
              "<Figure size 432x288 with 1 Axes>"
            ]
          },
          "metadata": {
            "tags": []
          }
        }
      ]
    },
    {
      "cell_type": "code",
      "metadata": {
        "colab": {
          "base_uri": "https://localhost:8080/",
          "height": 355
        },
        "id": "PGdkajhxu_y9",
        "outputId": "5fadd4df-0e17-4830-c9c1-ae510c1578db"
      },
      "source": [
        "ax = sns.distplot(main_metric[main_metric < 2000])\n",
        "ax.axvline(main_metric.mean(), color='r', label='mean')\n",
        "ax.axvline(main_metric.median(), color='g', label='median')\n",
        "ax.axvline(main_metric.mode().values[0], color='b', label='mode')\n",
        "ax.legend()"
      ],
      "execution_count": null,
      "outputs": [
        {
          "output_type": "stream",
          "text": [
            "/usr/local/lib/python3.7/dist-packages/seaborn/distributions.py:2557: FutureWarning: `distplot` is a deprecated function and will be removed in a future version. Please adapt your code to use either `displot` (a figure-level function with similar flexibility) or `histplot` (an axes-level function for histograms).\n",
            "  warnings.warn(msg, FutureWarning)\n"
          ],
          "name": "stderr"
        },
        {
          "output_type": "execute_result",
          "data": {
            "text/plain": [
              "<matplotlib.legend.Legend at 0x7f70f9b83d50>"
            ]
          },
          "metadata": {
            "tags": []
          },
          "execution_count": 39
        },
        {
          "output_type": "display_data",
          "data": {
            "image/png": "[encoded data removed]",
            "text/plain": [
              "<Figure size 432x288 with 1 Axes>"
            ]
          },
          "metadata": {
            "tags": []
          }
        }
      ]
    },
    {
      "cell_type": "markdown",
      "metadata": {
        "id": "2tGfzzCACF5p"
      },
      "source": [
        "Изучим сезональность: сравним начало датасета и конец"
      ]
    },
    {
      "cell_type": "code",
      "metadata": {
        "colab": {
          "base_uri": "https://localhost:8080/"
        },
        "id": "NDhYtRMewMwr",
        "outputId": "ab6bf1f7-78f2-4345-8a0e-8778df074d8e"
      },
      "source": [
        "light_df['event_date'].min(), light_df['event_date'].max()"
      ],
      "execution_count": null,
      "outputs": [
        {
          "output_type": "execute_result",
          "data": {
            "text/plain": [
              "(Timestamp('2019-06-18 00:00:00'), Timestamp('2019-12-09 00:00:00'))"
            ]
          },
          "metadata": {
            "tags": []
          },
          "execution_count": 40
        }
      ]
    },
    {
      "cell_type": "code",
      "metadata": {
        "id": "npW8csBS-8lj"
      },
      "source": [
        "first_plotter = light_df[(light_df['event_date'] < light_df['event_date'].min() + timedelta(days=30)) & (main_metric[main_metric < 2000])]['revenue_amount']\n",
        "second_plotter = light_df[(light_df['event_date'] > light_df['event_date'].max() - timedelta(days=30)) & (main_metric[main_metric < 2000])]['revenue_amount']"
      ],
      "execution_count": null,
      "outputs": []
    },
    {
      "cell_type": "code",
      "metadata": {
        "colab": {
          "base_uri": "https://localhost:8080/"
        },
        "id": "ToW6LeymA5nZ",
        "outputId": "3aa8254f-2da6-4cca-b8bd-f28ef9ae6dcb"
      },
      "source": [
        "season_1 = light_df[light_df['event_date'] < light_df['event_date'].min() + timedelta(days=30)].revenue_amount\n",
        "season_2 = light_df[light_df['event_date'] > light_df['event_date'].max() - timedelta(days=30)].revenue_amount\n",
        "print(f'Season_1: mean = {season_1.mean()}, median = {season_1.median()}, mode = {season_1.mode().values[0]}')\n",
        "print(f'Season_2: mean = {season_2.mean()}, median = {season_2.median()}, mode = {season_2.mode().values[0]}')"
      ],
      "execution_count": null,
      "outputs": [
        {
          "output_type": "stream",
          "text": [
            "Season_1: mean = 412.1531697184182, median = 184.0, mode = 69\n",
            "Season_2: mean = 394.2505709713255, median = 167.0, mode = 90\n"
          ],
          "name": "stdout"
        }
      ]
    },
    {
      "cell_type": "code",
      "metadata": {
        "colab": {
          "base_uri": "https://localhost:8080/",
          "height": 322
        },
        "id": "s2sulbgS_IbN",
        "outputId": "d6f4476b-fdf7-47b7-eb44-4f66acaab218"
      },
      "source": [
        "plt.hist([first_plotter, second_plotter], color=['r','b'], alpha=0.5, bins=20)\n",
        "\n",
        "plt.vlines(season_1.mean(), ymin=0, ymax=210000, color='r', label='mean_1', linewidth=0.5)\n",
        "plt.vlines(season_1.median(), ymin=0, ymax=210000, color='g', label='median_1', linewidth=0.5)\n",
        "plt.vlines(season_1.mode().values[0], ymin=0, ymax=210000, color='darkblue', label='mode_1', linewidth=0.5)\n",
        "\n",
        "plt.vlines(season_2.mean(), ymin=0, ymax=210000, color='pink', label='mean_2', linewidth=0.5)\n",
        "plt.vlines(season_2.median(), ymin=0, ymax=210000, color='lightgreen', label='median_2', linewidth=0.5)\n",
        "plt.vlines(season_2.mode().values[0], ymin=0, ymax=210000, color='deepskyblue', label='mode_2', linewidth=0.5)\n",
        "plt.legend()\n",
        "plt.show()"
      ],
      "execution_count": null,
      "outputs": [
        {
          "output_type": "stream",
          "text": [
            "/usr/local/lib/python3.7/dist-packages/numpy/core/_asarray.py:83: VisibleDeprecationWarning: Creating an ndarray from ragged nested sequences (which is a list-or-tuple of lists-or-tuples-or ndarrays with different lengths or shapes) is deprecated. If you meant to do this, you must specify 'dtype=object' when creating the ndarray\n",
            "  return array(a, dtype, copy=False, order=order)\n"
          ],
          "name": "stderr"
        },
        {
          "output_type": "display_data",
          "data": {
            "image/png": "[encoded data removed]",
            "text/plain": [
              "<Figure size 432x288 with 1 Axes>"
            ]
          },
          "metadata": {
            "tags": []
          }
        }
      ]
    },
    {
      "cell_type": "markdown",
      "metadata": {
        "id": "psyBZN_ACDO1"
      },
      "source": [
        "Сезональность как будто бы есть, но не сильно большая.\n",
        "\n",
        "Посмотрим поближе: сгруппируем по месяцам и посчитаем основные статистики для каждого месяца."
      ]
    },
    {
      "cell_type": "code",
      "metadata": {
        "colab": {
          "base_uri": "https://localhost:8080/",
          "height": 332
        },
        "id": "4qtlXOA_7M5y",
        "outputId": "8fa8999f-7dc8-40b6-cc52-2adeca5542fb"
      },
      "source": [
        "df[['revenue_amount', 'event_date']].resample('M', on='event_date').agg({'revenue_amount': [\"count\", \"mean\", \"median\", pd.Series.mode]})"
      ],
      "execution_count": null,
      "outputs": [
        {
          "output_type": "execute_result",
          "data": {
            "text/html": [
              "<div>\n",
              "<style scoped>\n",
              "    .dataframe tbody tr th:only-of-type {\n",
              "        vertical-align: middle;\n",
              "    }\n",
              "\n",
              "    .dataframe tbody tr th {\n",
              "        vertical-align: top;\n",
              "    }\n",
              "\n",
              "    .dataframe thead tr th {\n",
              "        text-align: left;\n",
              "    }\n",
              "\n",
              "    .dataframe thead tr:last-of-type th {\n",
              "        text-align: right;\n",
              "    }\n",
              "</style>\n",
              "<table border=\"1\" class=\"dataframe\">\n",
              "  <thead>\n",
              "    <tr>\n",
              "      <th></th>\n",
              "      <th colspan=\"4\" halign=\"left\">revenue_amount</th>\n",
              "    </tr>\n",
              "    <tr>\n",
              "      <th></th>\n",
              "      <th>count</th>\n",
              "      <th>mean</th>\n",
              "      <th>median</th>\n",
              "      <th>mode</th>\n",
              "    </tr>\n",
              "    <tr>\n",
              "      <th>event_date</th>\n",
              "      <th></th>\n",
              "      <th></th>\n",
              "      <th></th>\n",
              "      <th></th>\n",
              "    </tr>\n",
              "  </thead>\n",
              "  <tbody>\n",
              "    <tr>\n",
              "      <th>2019-06-30</th>\n",
              "      <td>605386</td>\n",
              "      <td>402.789843</td>\n",
              "      <td>176</td>\n",
              "      <td>90</td>\n",
              "    </tr>\n",
              "    <tr>\n",
              "      <th>2019-07-31</th>\n",
              "      <td>1499448</td>\n",
              "      <td>418.157773</td>\n",
              "      <td>188</td>\n",
              "      <td>90</td>\n",
              "    </tr>\n",
              "    <tr>\n",
              "      <th>2019-08-31</th>\n",
              "      <td>1501908</td>\n",
              "      <td>411.441507</td>\n",
              "      <td>175</td>\n",
              "      <td>69</td>\n",
              "    </tr>\n",
              "    <tr>\n",
              "      <th>2019-09-30</th>\n",
              "      <td>1556095</td>\n",
              "      <td>394.490285</td>\n",
              "      <td>167</td>\n",
              "      <td>69</td>\n",
              "    </tr>\n",
              "    <tr>\n",
              "      <th>2019-10-31</th>\n",
              "      <td>1726563</td>\n",
              "      <td>396.922471</td>\n",
              "      <td>167</td>\n",
              "      <td>90</td>\n",
              "    </tr>\n",
              "    <tr>\n",
              "      <th>2019-11-30</th>\n",
              "      <td>1322401</td>\n",
              "      <td>383.554895</td>\n",
              "      <td>161</td>\n",
              "      <td>90</td>\n",
              "    </tr>\n",
              "    <tr>\n",
              "      <th>2019-12-31</th>\n",
              "      <td>414041</td>\n",
              "      <td>393.570639</td>\n",
              "      <td>167</td>\n",
              "      <td>69</td>\n",
              "    </tr>\n",
              "  </tbody>\n",
              "</table>\n",
              "</div>"
            ],
            "text/plain": [
              "           revenue_amount                        \n",
              "                    count        mean median mode\n",
              "event_date                                       \n",
              "2019-06-30         605386  402.789843    176   90\n",
              "2019-07-31        1499448  418.157773    188   90\n",
              "2019-08-31        1501908  411.441507    175   69\n",
              "2019-09-30        1556095  394.490285    167   69\n",
              "2019-10-31        1726563  396.922471    167   90\n",
              "2019-11-30        1322401  383.554895    161   90\n",
              "2019-12-31         414041  393.570639    167   69"
            ]
          },
          "metadata": {
            "tags": []
          },
          "execution_count": 33
        }
      ]
    },
    {
      "cell_type": "markdown",
      "metadata": {
        "id": "24_vpnoH7UPF"
      },
      "source": [
        "АГА, ВОТ ОНО\n",
        "\n",
        "Сезонность в количестве транзакций, еее\n",
        "\n",
        "Посмотрим на другие разбиения"
      ]
    },
    {
      "cell_type": "code",
      "metadata": {
        "colab": {
          "base_uri": "https://localhost:8080/",
          "height": 548
        },
        "id": "DbhfH_FiCn9n",
        "outputId": "a75f7d01-ca8f-46e2-b139-f7f8b3f69e8f"
      },
      "source": [
        "plt.figure(figsize=(16, 9))\n",
        "for unique_val in df['user_segment'].unique():\n",
        "    df[(df.revenue_amount < 2000) & (df.user_segment == unique_val)].revenue_amount.hist(label=unique_val, alpha=0.8, bins=20)\n",
        "plt.legend()\n",
        "plt.show()"
      ],
      "execution_count": null,
      "outputs": [
        {
          "output_type": "display_data",
          "data": {
            "image/png": "[encoded data removed]",
            "text/plain": [
              "<Figure size 1152x648 with 1 Axes>"
            ]
          },
          "metadata": {
            "tags": []
          }
        }
      ]
    },
    {
      "cell_type": "code",
      "metadata": {
        "colab": {
          "base_uri": "https://localhost:8080/",
          "height": 537
        },
        "id": "k7kgOgFXE5N7",
        "outputId": "7f2f6476-2a1f-48f1-b0b5-a383e82515f3"
      },
      "source": [
        "plt.figure(figsize=(16, 9))\n",
        "for unique_val in df['region'].unique():\n",
        "    df[(df.revenue_amount < 2000) & (df.region == unique_val)].revenue_amount.hist(label=unique_val, alpha=0.5, bins=20)\n",
        "plt.show()"
      ],
      "execution_count": null,
      "outputs": [
        {
          "output_type": "display_data",
          "data": {
            "image/png": "[encoded data removed]",
            "text/plain": [
              "<Figure size 1152x648 with 1 Axes>"
            ]
          },
          "metadata": {
            "tags": []
          }
        }
      ]
    },
    {
      "cell_type": "code",
      "metadata": {
        "colab": {
          "base_uri": "https://localhost:8080/",
          "height": 541
        },
        "id": "07UVRcDQIx8n",
        "outputId": "1d0e3168-83b1-4d75-9c11-983b5ce2917f"
      },
      "source": [
        "plt.figure(figsize=(16, 9))\n",
        "for unique_val in df['category'].unique():\n",
        "    df[(df.revenue_amount < 2000) & (df.category == unique_val)].revenue_amount.hist(label=unique_val, alpha=0.7, bins=20)\n",
        "plt.show()"
      ],
      "execution_count": null,
      "outputs": [
        {
          "output_type": "display_data",
          "data": {
            "image/png": "[encoded data removed]",
            "text/plain": [
              "<Figure size 1152x648 with 1 Axes>"
            ]
          },
          "metadata": {
            "tags": []
          }
        }
      ]
    },
    {
      "cell_type": "markdown",
      "metadata": {
        "id": "gj9SaYamMviF"
      },
      "source": [
        "### MDE"
      ]
    },
    {
      "cell_type": "markdown",
      "metadata": {
        "id": "gC8_lU6w7pQV"
      },
      "source": [
        "Мы отловили сезонность в количестве заказов, поэтому посмотрим на 2-3-4 месяцы, как на +- одинаково загруженные.\n",
        "\n",
        "На всякий случай домножу количество дней на множитель, чтобы получить понятную картину."
      ]
    },
    {
      "cell_type": "code",
      "metadata": {
        "colab": {
          "base_uri": "https://localhost:8080/",
          "height": 332
        },
        "id": "u1WRKl0_5BnY",
        "outputId": "2b224154-210c-45b6-aa4f-27c8d5d1591b"
      },
      "source": [
        "df[['revenue_amount', 'event_date']].resample('M', on='event_date').agg({'revenue_amount': [\"count\", \"mean\", \"median\", pd.Series.mode]})"
      ],
      "execution_count": null,
      "outputs": [
        {
          "output_type": "execute_result",
          "data": {
            "text/html": [
              "<div>\n",
              "<style scoped>\n",
              "    .dataframe tbody tr th:only-of-type {\n",
              "        vertical-align: middle;\n",
              "    }\n",
              "\n",
              "    .dataframe tbody tr th {\n",
              "        vertical-align: top;\n",
              "    }\n",
              "\n",
              "    .dataframe thead tr th {\n",
              "        text-align: left;\n",
              "    }\n",
              "\n",
              "    .dataframe thead tr:last-of-type th {\n",
              "        text-align: right;\n",
              "    }\n",
              "</style>\n",
              "<table border=\"1\" class=\"dataframe\">\n",
              "  <thead>\n",
              "    <tr>\n",
              "      <th></th>\n",
              "      <th colspan=\"4\" halign=\"left\">revenue_amount</th>\n",
              "    </tr>\n",
              "    <tr>\n",
              "      <th></th>\n",
              "      <th>count</th>\n",
              "      <th>mean</th>\n",
              "      <th>median</th>\n",
              "      <th>mode</th>\n",
              "    </tr>\n",
              "    <tr>\n",
              "      <th>event_date</th>\n",
              "      <th></th>\n",
              "      <th></th>\n",
              "      <th></th>\n",
              "      <th></th>\n",
              "    </tr>\n",
              "  </thead>\n",
              "  <tbody>\n",
              "    <tr>\n",
              "      <th>2019-06-30</th>\n",
              "      <td>605386</td>\n",
              "      <td>402.789843</td>\n",
              "      <td>176</td>\n",
              "      <td>90</td>\n",
              "    </tr>\n",
              "    <tr>\n",
              "      <th>2019-07-31</th>\n",
              "      <td>1499448</td>\n",
              "      <td>418.157773</td>\n",
              "      <td>188</td>\n",
              "      <td>90</td>\n",
              "    </tr>\n",
              "    <tr>\n",
              "      <th>2019-08-31</th>\n",
              "      <td>1501908</td>\n",
              "      <td>411.441507</td>\n",
              "      <td>175</td>\n",
              "      <td>69</td>\n",
              "    </tr>\n",
              "    <tr>\n",
              "      <th>2019-09-30</th>\n",
              "      <td>1556095</td>\n",
              "      <td>394.490285</td>\n",
              "      <td>167</td>\n",
              "      <td>69</td>\n",
              "    </tr>\n",
              "    <tr>\n",
              "      <th>2019-10-31</th>\n",
              "      <td>1726563</td>\n",
              "      <td>396.922471</td>\n",
              "      <td>167</td>\n",
              "      <td>90</td>\n",
              "    </tr>\n",
              "    <tr>\n",
              "      <th>2019-11-30</th>\n",
              "      <td>1322401</td>\n",
              "      <td>383.554895</td>\n",
              "      <td>161</td>\n",
              "      <td>90</td>\n",
              "    </tr>\n",
              "    <tr>\n",
              "      <th>2019-12-31</th>\n",
              "      <td>414041</td>\n",
              "      <td>393.570639</td>\n",
              "      <td>167</td>\n",
              "      <td>69</td>\n",
              "    </tr>\n",
              "  </tbody>\n",
              "</table>\n",
              "</div>"
            ],
            "text/plain": [
              "           revenue_amount                        \n",
              "                    count        mean median mode\n",
              "event_date                                       \n",
              "2019-06-30         605386  402.789843    176   90\n",
              "2019-07-31        1499448  418.157773    188   90\n",
              "2019-08-31        1501908  411.441507    175   69\n",
              "2019-09-30        1556095  394.490285    167   69\n",
              "2019-10-31        1726563  396.922471    167   90\n",
              "2019-11-30        1322401  383.554895    161   90\n",
              "2019-12-31         414041  393.570639    167   69"
            ]
          },
          "metadata": {
            "tags": []
          },
          "execution_count": 32
        }
      ]
    },
    {
      "cell_type": "markdown",
      "metadata": {
        "id": "E4ggA_PpArOC"
      },
      "source": [
        "Тут я пытался тупо сгруппировать по `user_id` и получал очень весёлый сайдэффект.\n",
        "\n",
        "У меня тупо повышался нужный размер выборки вместо понижения, что было довольно весело.\n",
        "\n",
        "Оказалось, дело в не_рандомной генерации `id`, я потратил около 2х часов на то, чтобы это понять, мда. Видно даже на этой, +- сбалансированной по количеству транзакций, выборке.\n",
        "\n",
        "Старый код ниже"
      ]
    },
    {
      "cell_type": "code",
      "metadata": {
        "id": "Ln53NUsP-Lny"
      },
      "source": [
        "def choose_date_old(data, start_date, delta, share, grouper): \n",
        "    tmp = data[(data.event_date>=start_date)&(data.event_date<=start_date+datetime.timedelta(days=delta))]\n",
        "    tmp_len = len(tmp)\n",
        "    print(f'df_len = {tmp_len}')\n",
        "    tmp=tmp.groupby([grouper]).sum().reset_index()\n",
        "    x = tmp[(tmp[grouper])%int(1/share)==1].reset_index()\n",
        "    print(f'x_len = {len(x)}, {len(x) / tmp_len:.2%}, share = {share}')\n",
        "    return x"
      ],
      "execution_count": null,
      "outputs": []
    },
    {
      "cell_type": "code",
      "metadata": {
        "id": "xnO6Cw4l-f25"
      },
      "source": [
        "def mde_getter_old(data, share, grouper, metric, start_date):\n",
        "    start_date = pd.to_datetime(start_date)\n",
        "    days_list = list(range(30, 91, 30))\n",
        "    sample_vols = []\n",
        "\n",
        "    for days in days_list:\n",
        "        #получаем необходимую подвыборку\n",
        "        x1 = choose_date_old(data, start_date, days, share, grouper) \n",
        "\n",
        "        mean = x1[metric].mean()\n",
        "        std = x1[metric].std()\n",
        "        \n",
        "        alpha = 0.05\n",
        "        power = 0.8\n",
        "        # целевой размер относительного отклоенения исходной метрики\n",
        "        result_effect = 0.04 \n",
        "        effect_size = (mean / std) * result_effect\n",
        "\n",
        "        sample_vol = tt_ind_solve_power(effect_size = effect_size,\n",
        "                                        alpha = alpha,\n",
        "                                        power = power,\n",
        "                                        nobs1 = None,\n",
        "                                        ratio = 1,\n",
        "                                        alternative = 'two-sided',\n",
        "                                        )\n",
        "        sample_vols.append(sample_vol / x1.shape[0])\n",
        "    \n",
        "    return metric, days_list, sample_vols, share"
      ],
      "execution_count": null,
      "outputs": []
    },
    {
      "cell_type": "code",
      "metadata": {
        "colab": {
          "base_uri": "https://localhost:8080/"
        },
        "id": "4tdHeQidN1FS",
        "outputId": "7d41e11e-01dc-44ac-ef1d-c2ced6725743"
      },
      "source": [
        "mde_getter_old(df, share=0.5, grouper='user_id', metric='revenue_amount', start_date='2019-07-31')"
      ],
      "execution_count": null,
      "outputs": [
        {
          "output_type": "stream",
          "text": [
            "df_len = 1511935\n",
            "x_len = 300414, 19.87%, share = 0.5\n",
            "df_len = 3047174\n",
            "x_len = 478214, 15.69%, share = 0.5\n",
            "df_len = 4723674\n",
            "x_len = 638986, 13.53%, share = 0.5\n"
          ],
          "name": "stdout"
        },
        {
          "output_type": "execute_result",
          "data": {
            "text/plain": [
              "('revenue_amount',\n",
              " [30, 60, 90],\n",
              " [1.4949031583625614, 1.3543242555992312, 1.3860609866752969],\n",
              " 0.5)"
            ]
          },
          "metadata": {
            "tags": []
          },
          "execution_count": 93
        }
      ]
    },
    {
      "cell_type": "markdown",
      "metadata": {
        "id": "2GzRilrtBG-N"
      },
      "source": [
        "Новый код:"
      ]
    },
    {
      "cell_type": "code",
      "metadata": {
        "id": "UMEE2AGyMy1p"
      },
      "source": [
        "def choose_date(data, start_date, delta, share, grouper): \n",
        "    \"\"\"\n",
        "    Функция выбора 2 подвыборок из загруженных данных:\n",
        "    data - входные данные;\n",
        "    start_date - дата начала одвыборки;\n",
        "    delta - длительность периода для подвыборки;\n",
        "    share - доля пользователей в одной подвыборке.\n",
        "    \"\"\"\n",
        "    tmp = data[(data.event_date >= start_date) &\n",
        "               (data.event_date <= start_date + datetime.timedelta(days = delta))\n",
        "               ]\n",
        "    tmp_len = len(tmp)\n",
        "    print(f'df_len = {tmp_len}')\n",
        "    tmp['grouper_new'] = pd.util.hash_pandas_object(tmp[grouper])\n",
        "    tmp = tmp.groupby(['grouper_new']).sum().reset_index()\n",
        "    x = tmp[tmp['grouper_new'] % int(1 / share) == 1].reset_index()\n",
        "    x.drop('grouper_new', axis=1)\n",
        "    print(f'x_len = {len(x)}, {len(x) / tmp_len:.2%}, share = {share}')\n",
        "    return x"
      ],
      "execution_count": null,
      "outputs": []
    },
    {
      "cell_type": "code",
      "metadata": {
        "id": "xFaQw1DZM2hz"
      },
      "source": [
        "def mde_getter(data, share, grouper, metric, start_date):\n",
        "    start_date = pd.to_datetime(start_date)\n",
        "    days_list = list(range(30, 91, 30))\n",
        "    sample_vols = []\n",
        "\n",
        "    for days in days_list:\n",
        "        #получаем необходимую подвыборку\n",
        "        x1 = choose_date(data, start_date, days, share, grouper) \n",
        "\n",
        "        mean = x1[metric].mean()\n",
        "        std = x1[metric].std()\n",
        "        \n",
        "        alpha = 0.05\n",
        "        power = 0.8\n",
        "        # целевой размер относительного отклоенения исходной метрики\n",
        "        result_effect = 0.04 \n",
        "        effect_size = (mean / std) * result_effect\n",
        "\n",
        "        sample_vol = tt_ind_solve_power(effect_size = effect_size,\n",
        "                                        alpha = alpha,\n",
        "                                        power = power,\n",
        "                                        nobs1 = None,\n",
        "                                        ratio = 1,\n",
        "                                        alternative = 'two-sided',\n",
        "                                        )\n",
        "        sample_vols.append(sample_vol / x1.shape[0])\n",
        "    \n",
        "    return metric, days_list, sample_vols, share, len(x1)"
      ],
      "execution_count": null,
      "outputs": []
    },
    {
      "cell_type": "code",
      "metadata": {
        "id": "hSq6vEHWDIvq"
      },
      "source": [
        "import warnings\n",
        "warnings.filterwarnings(\"ignore\")"
      ],
      "execution_count": null,
      "outputs": []
    },
    {
      "cell_type": "code",
      "metadata": {
        "colab": {
          "base_uri": "https://localhost:8080/"
        },
        "id": "XpgRmls_NGbl",
        "outputId": "7390adea-dbdd-4c3a-a540-1bd760e48d6e"
      },
      "source": [
        "result = []\n",
        "for proportion in [.10, .25, .5]:\n",
        "    result.append(mde_getter(df, share=proportion, grouper='user_id', metric='revenue_amount', start_date='2019-07-31'))"
      ],
      "execution_count": null,
      "outputs": [
        {
          "output_type": "stream",
          "text": [
            "df_len = 1511935\n",
            "x_len = 151377, 10.01%, share = 0.1\n",
            "df_len = 3047174\n",
            "x_len = 304615, 10.00%, share = 0.1\n",
            "df_len = 4723674\n",
            "x_len = 472559, 10.00%, share = 0.1\n",
            "df_len = 1511935\n",
            "x_len = 378876, 25.06%, share = 0.25\n",
            "df_len = 3047174\n",
            "x_len = 762406, 25.02%, share = 0.25\n",
            "df_len = 4723674\n",
            "x_len = 1181208, 25.01%, share = 0.25\n",
            "df_len = 1511935\n",
            "x_len = 755958, 50.00%, share = 0.5\n",
            "df_len = 3047174\n",
            "x_len = 1523204, 49.99%, share = 0.5\n",
            "df_len = 4723674\n",
            "x_len = 2360942, 49.98%, share = 0.5\n"
          ],
          "name": "stdout"
        }
      ]
    },
    {
      "cell_type": "code",
      "metadata": {
        "colab": {
          "base_uri": "https://localhost:8080/"
        },
        "id": "iblgDIOkDmX7",
        "outputId": "896b6594-c3c0-4fb5-f26f-8894c580da95"
      },
      "source": [
        "for item in result:\n",
        "    metric, days_list, sample_vols, share, sample_len = item\n",
        "    for day in range(len(days_list)):\n",
        "        print(f'For {metric} and duration = {days_list[day]} and group size = {share} we have to enlarge our duration in {sample_vols[day]:0.3} times to have {ceil(sample_len * sample_vols[day])} observations')\n",
        "    print()"
      ],
      "execution_count": null,
      "outputs": [
        {
          "output_type": "stream",
          "text": [
            "For revenue_amount and duration = 30 and group size = 0.1 we have to enlarge our duration in 0.33 times to have 155735 observations\n",
            "For revenue_amount and duration = 60 and group size = 0.1 we have to enlarge our duration in 0.168 times to have 79254 observations\n",
            "For revenue_amount and duration = 90 and group size = 0.1 we have to enlarge our duration in 0.13 times to have 61580 observations\n",
            "\n",
            "For revenue_amount and duration = 30 and group size = 0.25 we have to enlarge our duration in 0.128 times to have 150913 observations\n",
            "For revenue_amount and duration = 60 and group size = 0.25 we have to enlarge our duration in 0.0636 times to have 75088 observations\n",
            "For revenue_amount and duration = 90 and group size = 0.25 we have to enlarge our duration in 0.046 times to have 54357 observations\n",
            "\n",
            "For revenue_amount and duration = 30 and group size = 0.5 we have to enlarge our duration in 0.0634 times to have 149712 observations\n",
            "For revenue_amount and duration = 60 and group size = 0.5 we have to enlarge our duration in 0.0317 times to have 74796 observations\n",
            "For revenue_amount and duration = 90 and group size = 0.5 we have to enlarge our duration in 0.0228 times to have 53715 observations\n",
            "\n"
          ],
          "name": "stdout"
        }
      ]
    },
    {
      "cell_type": "markdown",
      "metadata": {
        "id": "MDVJO--nHdNP"
      },
      "source": [
        "Посмотрим на последние 90 дней"
      ]
    },
    {
      "cell_type": "code",
      "metadata": {
        "colab": {
          "base_uri": "https://localhost:8080/"
        },
        "id": "CBvvpOLcHc4J",
        "outputId": "948394d2-35f1-48eb-f1d6-96bee3bc1f28"
      },
      "source": [
        "res_last = []\n",
        "for proportion in [.1, .25, .5]:\n",
        "    res_last.append(mde_getter(df, share=proportion, grouper='user_id', metric='revenue_amount', start_date='2019-10-31'))"
      ],
      "execution_count": null,
      "outputs": [
        {
          "output_type": "stream",
          "text": [
            "df_len = 1377729\n",
            "x_len = 137832, 10.00%, share = 0.1\n",
            "df_len = 1791770\n",
            "x_len = 179181, 10.00%, share = 0.1\n",
            "df_len = 1791770\n",
            "x_len = 179181, 10.00%, share = 0.1\n",
            "df_len = 1377729\n",
            "x_len = 344112, 24.98%, share = 0.25\n",
            "df_len = 1791770\n",
            "x_len = 447245, 24.96%, share = 0.25\n",
            "df_len = 1791770\n",
            "x_len = 447245, 24.96%, share = 0.25\n",
            "df_len = 1377729\n",
            "x_len = 689158, 50.02%, share = 0.5\n",
            "df_len = 1791770\n",
            "x_len = 896049, 50.01%, share = 0.5\n",
            "df_len = 1791770\n",
            "x_len = 896049, 50.01%, share = 0.5\n"
          ],
          "name": "stdout"
        }
      ]
    },
    {
      "cell_type": "code",
      "metadata": {
        "colab": {
          "base_uri": "https://localhost:8080/"
        },
        "id": "T4-krnMEEdjn",
        "outputId": "c630f949-af50-4bbd-bd3c-7d1cd2853215"
      },
      "source": [
        "for item in res_last:\n",
        "    metric, days_list, sample_vols, share, sample_len = item\n",
        "    for day in range(len(days_list)):\n",
        "        print(f'For {metric} and duration = {days_list[day]} and group size = {share} we have to enlarge our duration in {sample_vols[day]:0.3} times to have total {ceil(sample_len * sample_vols[day])} observations')\n",
        "    print()"
      ],
      "execution_count": null,
      "outputs": [
        {
          "output_type": "stream",
          "text": [
            "For revenue_amount and duration = 30 and group size = 0.1 we have to enlarge our duration in 0.517 times to have total 92584 observations\n",
            "For revenue_amount and duration = 60 and group size = 0.1 we have to enlarge our duration in 0.36 times to have total 64554 observations\n",
            "For revenue_amount and duration = 90 and group size = 0.1 we have to enlarge our duration in 0.36 times to have total 64554 observations\n",
            "\n",
            "For revenue_amount and duration = 30 and group size = 0.25 we have to enlarge our duration in 0.227 times to have total 101575 observations\n",
            "For revenue_amount and duration = 60 and group size = 0.25 we have to enlarge our duration in 0.16 times to have total 71679 observations\n",
            "For revenue_amount and duration = 90 and group size = 0.25 we have to enlarge our duration in 0.16 times to have total 71679 observations\n",
            "\n",
            "For revenue_amount and duration = 30 and group size = 0.5 we have to enlarge our duration in 0.103 times to have total 91989 observations\n",
            "For revenue_amount and duration = 60 and group size = 0.5 we have to enlarge our duration in 0.0738 times to have total 66168 observations\n",
            "For revenue_amount and duration = 90 and group size = 0.5 we have to enlarge our duration in 0.0738 times to have total 66168 observations\n",
            "\n"
          ],
          "name": "stdout"
        }
      ]
    },
    {
      "cell_type": "markdown",
      "metadata": {
        "id": "L3BfTXxeIbzm"
      },
      "source": [
        "### CUPED"
      ]
    },
    {
      "cell_type": "markdown",
      "metadata": {
        "id": "jGadMZxWJ7Ls"
      },
      "source": [
        "Предположим, мы не хотим тревожить много людей, итого мы хотим максимум 100.000 наблюдений.\n",
        "\n",
        "Попробуем подобрать разбиение так, чтобы 25% от него было 100.000"
      ]
    },
    {
      "cell_type": "code",
      "metadata": {
        "colab": {
          "base_uri": "https://localhost:8080/",
          "height": 269
        },
        "id": "AloYvH7WJAZu",
        "outputId": "0ac3ba56-8fea-4b87-be9c-435f97f30801"
      },
      "source": [
        "df[['revenue_amount', 'event_date']].resample('W', on='event_date').agg({'revenue_amount': [\"count\", \"mean\", \"median\", pd.Series.mode]}).tail()"
      ],
      "execution_count": null,
      "outputs": [
        {
          "output_type": "execute_result",
          "data": {
            "text/html": [
              "<div>\n",
              "<style scoped>\n",
              "    .dataframe tbody tr th:only-of-type {\n",
              "        vertical-align: middle;\n",
              "    }\n",
              "\n",
              "    .dataframe tbody tr th {\n",
              "        vertical-align: top;\n",
              "    }\n",
              "\n",
              "    .dataframe thead tr th {\n",
              "        text-align: left;\n",
              "    }\n",
              "\n",
              "    .dataframe thead tr:last-of-type th {\n",
              "        text-align: right;\n",
              "    }\n",
              "</style>\n",
              "<table border=\"1\" class=\"dataframe\">\n",
              "  <thead>\n",
              "    <tr>\n",
              "      <th></th>\n",
              "      <th colspan=\"4\" halign=\"left\">revenue_amount</th>\n",
              "    </tr>\n",
              "    <tr>\n",
              "      <th></th>\n",
              "      <th>count</th>\n",
              "      <th>mean</th>\n",
              "      <th>median</th>\n",
              "      <th>mode</th>\n",
              "    </tr>\n",
              "    <tr>\n",
              "      <th>event_date</th>\n",
              "      <th></th>\n",
              "      <th></th>\n",
              "      <th></th>\n",
              "      <th></th>\n",
              "    </tr>\n",
              "  </thead>\n",
              "  <tbody>\n",
              "    <tr>\n",
              "      <th>2019-11-17</th>\n",
              "      <td>284285</td>\n",
              "      <td>361.128839</td>\n",
              "      <td>160</td>\n",
              "      <td>90</td>\n",
              "    </tr>\n",
              "    <tr>\n",
              "      <th>2019-11-24</th>\n",
              "      <td>354573</td>\n",
              "      <td>404.672970</td>\n",
              "      <td>167</td>\n",
              "      <td>90</td>\n",
              "    </tr>\n",
              "    <tr>\n",
              "      <th>2019-12-01</th>\n",
              "      <td>353160</td>\n",
              "      <td>408.654848</td>\n",
              "      <td>168</td>\n",
              "      <td>69</td>\n",
              "    </tr>\n",
              "    <tr>\n",
              "      <th>2019-12-08</th>\n",
              "      <td>374133</td>\n",
              "      <td>399.611285</td>\n",
              "      <td>167</td>\n",
              "      <td>90</td>\n",
              "    </tr>\n",
              "    <tr>\n",
              "      <th>2019-12-15</th>\n",
              "      <td>1</td>\n",
              "      <td>91.000000</td>\n",
              "      <td>91</td>\n",
              "      <td>91</td>\n",
              "    </tr>\n",
              "  </tbody>\n",
              "</table>\n",
              "</div>"
            ],
            "text/plain": [
              "           revenue_amount                        \n",
              "                    count        mean median mode\n",
              "event_date                                       \n",
              "2019-11-17         284285  361.128839    160   90\n",
              "2019-11-24         354573  404.672970    167   90\n",
              "2019-12-01         353160  408.654848    168   69\n",
              "2019-12-08         374133  399.611285    167   90\n",
              "2019-12-15              1   91.000000     91   91"
            ]
          },
          "metadata": {
            "tags": []
          },
          "execution_count": 144
        }
      ]
    },
    {
      "cell_type": "markdown",
      "metadata": {
        "id": "H3sIxnm0KbDk"
      },
      "source": [
        "Выходит, что мы можем взять чуть больше чем последнюю неделю. Но тут может вмешаться недельная сезонность, а нам лучше пере-, чем недо-, поэтому или возьмём две недели c долей в 25%, или раскатим недельный эксперимент на всех пользователей, взяв долю в 50%.\n",
        "\n",
        "В контексте месяца:"
      ]
    },
    {
      "cell_type": "code",
      "metadata": {
        "colab": {
          "base_uri": "https://localhost:8080/",
          "height": 332
        },
        "id": "4FmOu_XJH5IT",
        "outputId": "284ce4f6-18b2-4af0-920d-1cb75171db0d"
      },
      "source": [
        "df[['revenue_amount', 'event_date']].resample('M', on='event_date').agg({'revenue_amount': [\"count\", \"mean\", \"median\", pd.Series.mode]})"
      ],
      "execution_count": null,
      "outputs": [
        {
          "output_type": "execute_result",
          "data": {
            "text/html": [
              "<div>\n",
              "<style scoped>\n",
              "    .dataframe tbody tr th:only-of-type {\n",
              "        vertical-align: middle;\n",
              "    }\n",
              "\n",
              "    .dataframe tbody tr th {\n",
              "        vertical-align: top;\n",
              "    }\n",
              "\n",
              "    .dataframe thead tr th {\n",
              "        text-align: left;\n",
              "    }\n",
              "\n",
              "    .dataframe thead tr:last-of-type th {\n",
              "        text-align: right;\n",
              "    }\n",
              "</style>\n",
              "<table border=\"1\" class=\"dataframe\">\n",
              "  <thead>\n",
              "    <tr>\n",
              "      <th></th>\n",
              "      <th colspan=\"4\" halign=\"left\">revenue_amount</th>\n",
              "    </tr>\n",
              "    <tr>\n",
              "      <th></th>\n",
              "      <th>count</th>\n",
              "      <th>mean</th>\n",
              "      <th>median</th>\n",
              "      <th>mode</th>\n",
              "    </tr>\n",
              "    <tr>\n",
              "      <th>event_date</th>\n",
              "      <th></th>\n",
              "      <th></th>\n",
              "      <th></th>\n",
              "      <th></th>\n",
              "    </tr>\n",
              "  </thead>\n",
              "  <tbody>\n",
              "    <tr>\n",
              "      <th>2019-06-30</th>\n",
              "      <td>605386</td>\n",
              "      <td>402.789843</td>\n",
              "      <td>176</td>\n",
              "      <td>90</td>\n",
              "    </tr>\n",
              "    <tr>\n",
              "      <th>2019-07-31</th>\n",
              "      <td>1499448</td>\n",
              "      <td>418.157773</td>\n",
              "      <td>188</td>\n",
              "      <td>90</td>\n",
              "    </tr>\n",
              "    <tr>\n",
              "      <th>2019-08-31</th>\n",
              "      <td>1501908</td>\n",
              "      <td>411.441507</td>\n",
              "      <td>175</td>\n",
              "      <td>69</td>\n",
              "    </tr>\n",
              "    <tr>\n",
              "      <th>2019-09-30</th>\n",
              "      <td>1556095</td>\n",
              "      <td>394.490285</td>\n",
              "      <td>167</td>\n",
              "      <td>69</td>\n",
              "    </tr>\n",
              "    <tr>\n",
              "      <th>2019-10-31</th>\n",
              "      <td>1726563</td>\n",
              "      <td>396.922471</td>\n",
              "      <td>167</td>\n",
              "      <td>90</td>\n",
              "    </tr>\n",
              "    <tr>\n",
              "      <th>2019-11-30</th>\n",
              "      <td>1322401</td>\n",
              "      <td>383.554895</td>\n",
              "      <td>161</td>\n",
              "      <td>90</td>\n",
              "    </tr>\n",
              "    <tr>\n",
              "      <th>2019-12-31</th>\n",
              "      <td>414041</td>\n",
              "      <td>393.570639</td>\n",
              "      <td>167</td>\n",
              "      <td>69</td>\n",
              "    </tr>\n",
              "  </tbody>\n",
              "</table>\n",
              "</div>"
            ],
            "text/plain": [
              "           revenue_amount                        \n",
              "                    count        mean median mode\n",
              "event_date                                       \n",
              "2019-06-30         605386  402.789843    176   90\n",
              "2019-07-31        1499448  418.157773    188   90\n",
              "2019-08-31        1501908  411.441507    175   69\n",
              "2019-09-30        1556095  394.490285    167   69\n",
              "2019-10-31        1726563  396.922471    167   90\n",
              "2019-11-30        1322401  383.554895    161   90\n",
              "2019-12-31         414041  393.570639    167   69"
            ]
          },
          "metadata": {
            "tags": []
          },
          "execution_count": 146
        }
      ]
    },
    {
      "cell_type": "markdown",
      "metadata": {
        "id": "9fg8qU50LPgF"
      },
      "source": [
        "Вообще т.к. написано посчитать CUPED за месяц до предполагаемого эксперимента, получается, что мы можем взять 11 месяц и посчитать на нём дату для 12 месяца. Но тогда непонятно, какой размер брать, ибо 12 месяц имеет сильную просадку по продажам, поэтому чтобы уж совсем наверняка давайте возьмём для эксперимента 25% + 25% человеков.\n",
        "\n",
        "Вот я всё это тут размышлял, а оказалось, что в задании надо считать для выборок 50/50"
      ]
    },
    {
      "cell_type": "code",
      "metadata": {
        "id": "vm0PMgwWLfa4"
      },
      "source": [
        "pre_dates_df = df[(df['event_date'] >= '2019-11-01') & (df['event_date'] <= '2019-11-30')]\n",
        "test_dates_df = df[(df['event_date'] >= '2019-12-01') & (df['event_date'] <= '2019-12-31')]"
      ],
      "execution_count": null,
      "outputs": []
    },
    {
      "cell_type": "code",
      "metadata": {
        "colab": {
          "base_uri": "https://localhost:8080/",
          "height": 206
        },
        "id": "osGDzFJDh9TV",
        "outputId": "29e90142-792b-4258-f727-0699c1521382"
      },
      "source": [
        "pre_dates_df.sample(5)"
      ],
      "execution_count": null,
      "outputs": [
        {
          "output_type": "execute_result",
          "data": {
            "text/html": [
              "<div>\n",
              "<style scoped>\n",
              "    .dataframe tbody tr th:only-of-type {\n",
              "        vertical-align: middle;\n",
              "    }\n",
              "\n",
              "    .dataframe tbody tr th {\n",
              "        vertical-align: top;\n",
              "    }\n",
              "\n",
              "    .dataframe thead th {\n",
              "        text-align: right;\n",
              "    }\n",
              "</style>\n",
              "<table border=\"1\" class=\"dataframe\">\n",
              "  <thead>\n",
              "    <tr style=\"text-align: right;\">\n",
              "      <th></th>\n",
              "      <th>event_date</th>\n",
              "      <th>user_id</th>\n",
              "      <th>user_segment</th>\n",
              "      <th>category</th>\n",
              "      <th>region</th>\n",
              "      <th>revenue_amount</th>\n",
              "    </tr>\n",
              "  </thead>\n",
              "  <tbody>\n",
              "    <tr>\n",
              "      <th>6406952</th>\n",
              "      <td>2019-11-11</td>\n",
              "      <td>1186395904347864395</td>\n",
              "      <td>4626944681007198896</td>\n",
              "      <td>3429514168013826643</td>\n",
              "      <td>1481836092404435976</td>\n",
              "      <td>140</td>\n",
              "    </tr>\n",
              "    <tr>\n",
              "      <th>6903055</th>\n",
              "      <td>2019-11-15</td>\n",
              "      <td>5052312978663615918</td>\n",
              "      <td>4626944681007198896</td>\n",
              "      <td>3619272498251215842</td>\n",
              "      <td>4848067518890897757</td>\n",
              "      <td>42</td>\n",
              "    </tr>\n",
              "    <tr>\n",
              "      <th>7631668</th>\n",
              "      <td>2019-11-26</td>\n",
              "      <td>7941113724559154488</td>\n",
              "      <td>2376074197230840906</td>\n",
              "      <td>3187769798308634693</td>\n",
              "      <td>2510779536173805371</td>\n",
              "      <td>119</td>\n",
              "    </tr>\n",
              "    <tr>\n",
              "      <th>6710694</th>\n",
              "      <td>2019-11-04</td>\n",
              "      <td>8415135210997402793</td>\n",
              "      <td>4626944681007198896</td>\n",
              "      <td>6549025562984299367</td>\n",
              "      <td>4607638209436083223</td>\n",
              "      <td>139</td>\n",
              "    </tr>\n",
              "    <tr>\n",
              "      <th>6773635</th>\n",
              "      <td>2019-11-16</td>\n",
              "      <td>8655600010083368835</td>\n",
              "      <td>2376074197230840906</td>\n",
              "      <td>7204754148424990691</td>\n",
              "      <td>7126065072605124185</td>\n",
              "      <td>636</td>\n",
              "    </tr>\n",
              "  </tbody>\n",
              "</table>\n",
              "</div>"
            ],
            "text/plain": [
              "        event_date              user_id  ...               region  revenue_amount\n",
              "6406952 2019-11-11  1186395904347864395  ...  1481836092404435976             140\n",
              "6903055 2019-11-15  5052312978663615918  ...  4848067518890897757              42\n",
              "7631668 2019-11-26  7941113724559154488  ...  2510779536173805371             119\n",
              "6710694 2019-11-04  8415135210997402793  ...  4607638209436083223             139\n",
              "6773635 2019-11-16  8655600010083368835  ...  7126065072605124185             636\n",
              "\n",
              "[5 rows x 6 columns]"
            ]
          },
          "metadata": {
            "tags": []
          },
          "execution_count": 152
        }
      ]
    },
    {
      "cell_type": "code",
      "metadata": {
        "id": "pKtXimwvhrT_"
      },
      "source": [
        "pre_metric = pre_dates_df[['user_id', 'revenue_amount']].groupby('user_id').sum()\n",
        "pre_metric = pre_metric.rename(columns={'revenue_amount': 'pre_revenue'})\n",
        "\n",
        "test_dates_df = test_dates_df.merge(pre_metric, left_on='user_id', right_index=True)"
      ],
      "execution_count": null,
      "outputs": []
    },
    {
      "cell_type": "code",
      "metadata": {
        "colab": {
          "base_uri": "https://localhost:8080/",
          "height": 206
        },
        "id": "BsWnPOgSk2t0",
        "outputId": "4b273421-c74e-4a01-9db3-a4b423e9a8e6"
      },
      "source": [
        "test_dates_df.sample(5)"
      ],
      "execution_count": null,
      "outputs": [
        {
          "output_type": "execute_result",
          "data": {
            "text/html": [
              "<div>\n",
              "<style scoped>\n",
              "    .dataframe tbody tr th:only-of-type {\n",
              "        vertical-align: middle;\n",
              "    }\n",
              "\n",
              "    .dataframe tbody tr th {\n",
              "        vertical-align: top;\n",
              "    }\n",
              "\n",
              "    .dataframe thead th {\n",
              "        text-align: right;\n",
              "    }\n",
              "</style>\n",
              "<table border=\"1\" class=\"dataframe\">\n",
              "  <thead>\n",
              "    <tr style=\"text-align: right;\">\n",
              "      <th></th>\n",
              "      <th>event_date</th>\n",
              "      <th>user_id</th>\n",
              "      <th>user_segment</th>\n",
              "      <th>category</th>\n",
              "      <th>region</th>\n",
              "      <th>revenue_amount</th>\n",
              "      <th>pre_revenue</th>\n",
              "    </tr>\n",
              "  </thead>\n",
              "  <tbody>\n",
              "    <tr>\n",
              "      <th>8069021</th>\n",
              "      <td>2019-12-08</td>\n",
              "      <td>3970618452449600829</td>\n",
              "      <td>4626944681007198896</td>\n",
              "      <td>91460430793700892</td>\n",
              "      <td>3855810523611026650</td>\n",
              "      <td>420</td>\n",
              "      <td>1498</td>\n",
              "    </tr>\n",
              "    <tr>\n",
              "      <th>7728112</th>\n",
              "      <td>2019-12-06</td>\n",
              "      <td>3992953725131866136</td>\n",
              "      <td>4626944681007198896</td>\n",
              "      <td>4394253463123676325</td>\n",
              "      <td>4626262784213375628</td>\n",
              "      <td>294</td>\n",
              "      <td>20104</td>\n",
              "    </tr>\n",
              "    <tr>\n",
              "      <th>8119828</th>\n",
              "      <td>2019-12-06</td>\n",
              "      <td>8919840746292678749</td>\n",
              "      <td>2376074197230840906</td>\n",
              "      <td>3187769798308634693</td>\n",
              "      <td>4459452014453832958</td>\n",
              "      <td>546</td>\n",
              "      <td>1753</td>\n",
              "    </tr>\n",
              "    <tr>\n",
              "      <th>7370014</th>\n",
              "      <td>2019-12-03</td>\n",
              "      <td>125971863768520611</td>\n",
              "      <td>2376074197230840906</td>\n",
              "      <td>3187769798308634693</td>\n",
              "      <td>8020568142410910978</td>\n",
              "      <td>328</td>\n",
              "      <td>4720</td>\n",
              "    </tr>\n",
              "    <tr>\n",
              "      <th>8097138</th>\n",
              "      <td>2019-12-08</td>\n",
              "      <td>8562395426927041956</td>\n",
              "      <td>2376074197230840906</td>\n",
              "      <td>7204754148424990691</td>\n",
              "      <td>6681910460932232567</td>\n",
              "      <td>176</td>\n",
              "      <td>377</td>\n",
              "    </tr>\n",
              "  </tbody>\n",
              "</table>\n",
              "</div>"
            ],
            "text/plain": [
              "        event_date              user_id  ...  revenue_amount  pre_revenue\n",
              "8069021 2019-12-08  3970618452449600829  ...             420         1498\n",
              "7728112 2019-12-06  3992953725131866136  ...             294        20104\n",
              "8119828 2019-12-06  8919840746292678749  ...             546         1753\n",
              "7370014 2019-12-03   125971863768520611  ...             328         4720\n",
              "8097138 2019-12-08  8562395426927041956  ...             176          377\n",
              "\n",
              "[5 rows x 7 columns]"
            ]
          },
          "metadata": {
            "tags": []
          },
          "execution_count": 171
        }
      ]
    },
    {
      "cell_type": "code",
      "metadata": {
        "colab": {
          "base_uri": "https://localhost:8080/"
        },
        "id": "CC0gLxhvjr2t",
        "outputId": "430618d4-0842-436a-c393-3bbf43b43fd5"
      },
      "source": [
        "test_dates_df.info()"
      ],
      "execution_count": null,
      "outputs": [
        {
          "output_type": "stream",
          "text": [
            "<class 'pandas.core.frame.DataFrame'>\n",
            "Int64Index: 289042 entries, 7106137 to 8625839\n",
            "Data columns (total 7 columns):\n",
            " #   Column          Non-Null Count   Dtype         \n",
            "---  ------          --------------   -----         \n",
            " 0   event_date      289042 non-null  datetime64[ns]\n",
            " 1   user_id         289042 non-null  int64         \n",
            " 2   user_segment    289042 non-null  int64         \n",
            " 3   category        289042 non-null  int64         \n",
            " 4   region          289042 non-null  int64         \n",
            " 5   revenue_amount  289042 non-null  int64         \n",
            " 6   pre_revenue     289042 non-null  int64         \n",
            "dtypes: datetime64[ns](1), int64(6)\n",
            "memory usage: 17.6 MB\n"
          ],
          "name": "stdout"
        }
      ]
    },
    {
      "cell_type": "markdown",
      "metadata": {
        "id": "3CIEOBfTkc4T"
      },
      "source": [
        "Нет нулевых значений, значит, новых юзеров не завезли. Прекрасно."
      ]
    },
    {
      "cell_type": "code",
      "metadata": {
        "id": "bZ-rBkdRkYG5"
      },
      "source": [
        "test_dates_df['pre_mean'] = test_dates_df['pre_revenue'].mean()\n",
        "theta = np.cov(test_dates_df.revenue_amount, test_dates_df.pre_revenue, ddof=1)[1, 0] / np.var(test_dates_df.pre_revenue, ddof=1)\n",
        "corr = np.corrcoef([test_dates_df.revenue_amount, test_dates_df.pre_revenue])[1, 0]\n",
        "test_dates_df['cuped_revenue'] = test_dates_df.revenue_amount - theta * (test_dates_df.pre_revenue - test_dates_df.pre_mean)"
      ],
      "execution_count": null,
      "outputs": []
    },
    {
      "cell_type": "code",
      "metadata": {
        "colab": {
          "base_uri": "https://localhost:8080/",
          "height": 206
        },
        "id": "rmEd-2cYmIYr",
        "outputId": "b9481094-7841-4b0b-ec7c-5c44b21594b3"
      },
      "source": [
        "test_dates_df.sample(5)"
      ],
      "execution_count": null,
      "outputs": [
        {
          "output_type": "execute_result",
          "data": {
            "text/html": [
              "<div>\n",
              "<style scoped>\n",
              "    .dataframe tbody tr th:only-of-type {\n",
              "        vertical-align: middle;\n",
              "    }\n",
              "\n",
              "    .dataframe tbody tr th {\n",
              "        vertical-align: top;\n",
              "    }\n",
              "\n",
              "    .dataframe thead th {\n",
              "        text-align: right;\n",
              "    }\n",
              "</style>\n",
              "<table border=\"1\" class=\"dataframe\">\n",
              "  <thead>\n",
              "    <tr style=\"text-align: right;\">\n",
              "      <th></th>\n",
              "      <th>event_date</th>\n",
              "      <th>user_id</th>\n",
              "      <th>user_segment</th>\n",
              "      <th>category</th>\n",
              "      <th>region</th>\n",
              "      <th>revenue_amount</th>\n",
              "      <th>pre_revenue</th>\n",
              "      <th>pre_mean</th>\n",
              "      <th>cuped_revenue</th>\n",
              "    </tr>\n",
              "  </thead>\n",
              "  <tbody>\n",
              "    <tr>\n",
              "      <th>7662225</th>\n",
              "      <td>2019-12-01</td>\n",
              "      <td>4781097317267115885</td>\n",
              "      <td>853431062533847667</td>\n",
              "      <td>174490086998335078</td>\n",
              "      <td>1481836092404435976</td>\n",
              "      <td>489</td>\n",
              "      <td>9460</td>\n",
              "      <td>10840.868818</td>\n",
              "      <td>497.986793</td>\n",
              "    </tr>\n",
              "    <tr>\n",
              "      <th>7897869</th>\n",
              "      <td>2019-12-04</td>\n",
              "      <td>2530503815783278081</td>\n",
              "      <td>2376074197230840906</td>\n",
              "      <td>7948270325129383019</td>\n",
              "      <td>1116465816370945844</td>\n",
              "      <td>230</td>\n",
              "      <td>230</td>\n",
              "      <td>10840.868818</td>\n",
              "      <td>299.056295</td>\n",
              "    </tr>\n",
              "    <tr>\n",
              "      <th>8141454</th>\n",
              "      <td>2019-12-08</td>\n",
              "      <td>4106415494355091105</td>\n",
              "      <td>4626944681007198896</td>\n",
              "      <td>4394253463123676325</td>\n",
              "      <td>1497553293127360034</td>\n",
              "      <td>35</td>\n",
              "      <td>35</td>\n",
              "      <td>10840.868818</td>\n",
              "      <td>105.325369</td>\n",
              "    </tr>\n",
              "    <tr>\n",
              "      <th>7853295</th>\n",
              "      <td>2019-12-07</td>\n",
              "      <td>2177058881600963757</td>\n",
              "      <td>4626944681007198896</td>\n",
              "      <td>6864443610550051939</td>\n",
              "      <td>8020568142410910978</td>\n",
              "      <td>28</td>\n",
              "      <td>301</td>\n",
              "      <td>10840.868818</td>\n",
              "      <td>96.594222</td>\n",
              "    </tr>\n",
              "    <tr>\n",
              "      <th>7829013</th>\n",
              "      <td>2019-12-03</td>\n",
              "      <td>1200511143474915996</td>\n",
              "      <td>2376074197230840906</td>\n",
              "      <td>5983323600580891431</td>\n",
              "      <td>3413200001141702850</td>\n",
              "      <td>587</td>\n",
              "      <td>55</td>\n",
              "      <td>10840.868818</td>\n",
              "      <td>657.195207</td>\n",
              "    </tr>\n",
              "  </tbody>\n",
              "</table>\n",
              "</div>"
            ],
            "text/plain": [
              "        event_date              user_id  ...      pre_mean  cuped_revenue\n",
              "7662225 2019-12-01  4781097317267115885  ...  10840.868818     497.986793\n",
              "7897869 2019-12-04  2530503815783278081  ...  10840.868818     299.056295\n",
              "8141454 2019-12-08  4106415494355091105  ...  10840.868818     105.325369\n",
              "7853295 2019-12-07  2177058881600963757  ...  10840.868818      96.594222\n",
              "7829013 2019-12-03  1200511143474915996  ...  10840.868818     657.195207\n",
              "\n",
              "[5 rows x 9 columns]"
            ]
          },
          "metadata": {
            "tags": []
          },
          "execution_count": 178
        }
      ]
    },
    {
      "cell_type": "code",
      "metadata": {
        "id": "WSf5ZJz9mPaI"
      },
      "source": [
        "test_dates_df.drop(['pre_revenue', 'pre_mean'], axis=1, inplace=True)"
      ],
      "execution_count": null,
      "outputs": []
    },
    {
      "cell_type": "code",
      "metadata": {
        "colab": {
          "base_uri": "https://localhost:8080/",
          "height": 300
        },
        "id": "llQR2dyPmpMa",
        "outputId": "e6c19259-09f6-4318-fc14-f232004be1ee"
      },
      "source": [
        "test_dates_df.describe()"
      ],
      "execution_count": null,
      "outputs": [
        {
          "output_type": "execute_result",
          "data": {
            "text/html": [
              "<div>\n",
              "<style scoped>\n",
              "    .dataframe tbody tr th:only-of-type {\n",
              "        vertical-align: middle;\n",
              "    }\n",
              "\n",
              "    .dataframe tbody tr th {\n",
              "        vertical-align: top;\n",
              "    }\n",
              "\n",
              "    .dataframe thead th {\n",
              "        text-align: right;\n",
              "    }\n",
              "</style>\n",
              "<table border=\"1\" class=\"dataframe\">\n",
              "  <thead>\n",
              "    <tr style=\"text-align: right;\">\n",
              "      <th></th>\n",
              "      <th>user_id</th>\n",
              "      <th>user_segment</th>\n",
              "      <th>category</th>\n",
              "      <th>region</th>\n",
              "      <th>revenue_amount</th>\n",
              "      <th>cuped_revenue</th>\n",
              "    </tr>\n",
              "  </thead>\n",
              "  <tbody>\n",
              "    <tr>\n",
              "      <th>count</th>\n",
              "      <td>2.890420e+05</td>\n",
              "      <td>2.890420e+05</td>\n",
              "      <td>2.890420e+05</td>\n",
              "      <td>2.890420e+05</td>\n",
              "      <td>289042.000000</td>\n",
              "      <td>289042.000000</td>\n",
              "    </tr>\n",
              "    <tr>\n",
              "      <th>mean</th>\n",
              "      <td>4.603744e+18</td>\n",
              "      <td>2.822207e+18</td>\n",
              "      <td>3.979829e+18</td>\n",
              "      <td>4.128462e+18</td>\n",
              "      <td>454.355104</td>\n",
              "      <td>454.355104</td>\n",
              "    </tr>\n",
              "    <tr>\n",
              "      <th>std</th>\n",
              "      <td>2.670076e+18</td>\n",
              "      <td>1.318240e+18</td>\n",
              "      <td>2.751556e+18</td>\n",
              "      <td>2.495269e+18</td>\n",
              "      <td>1073.386346</td>\n",
              "      <td>1024.766263</td>\n",
              "    </tr>\n",
              "    <tr>\n",
              "      <th>min</th>\n",
              "      <td>3.923981e+13</td>\n",
              "      <td>8.534311e+17</td>\n",
              "      <td>5.751401e+16</td>\n",
              "      <td>6.847539e+16</td>\n",
              "      <td>6.000000</td>\n",
              "      <td>-8369.290216</td>\n",
              "    </tr>\n",
              "    <tr>\n",
              "      <th>25%</th>\n",
              "      <td>2.281932e+18</td>\n",
              "      <td>2.376074e+18</td>\n",
              "      <td>1.472231e+18</td>\n",
              "      <td>1.481836e+18</td>\n",
              "      <td>98.000000</td>\n",
              "      <td>149.216090</td>\n",
              "    </tr>\n",
              "    <tr>\n",
              "      <th>50%</th>\n",
              "      <td>4.610470e+18</td>\n",
              "      <td>2.376074e+18</td>\n",
              "      <td>3.429514e+18</td>\n",
              "      <td>3.855811e+18</td>\n",
              "      <td>195.000000</td>\n",
              "      <td>235.175020</td>\n",
              "    </tr>\n",
              "    <tr>\n",
              "      <th>75%</th>\n",
              "      <td>6.917290e+18</td>\n",
              "      <td>4.626945e+18</td>\n",
              "      <td>6.549026e+18</td>\n",
              "      <td>5.780544e+18</td>\n",
              "      <td>470.000000</td>\n",
              "      <td>481.372505</td>\n",
              "    </tr>\n",
              "    <tr>\n",
              "      <th>max</th>\n",
              "      <td>9.223367e+18</td>\n",
              "      <td>4.626945e+18</td>\n",
              "      <td>7.948270e+18</td>\n",
              "      <td>9.198009e+18</td>\n",
              "      <td>113469.000000</td>\n",
              "      <td>110115.780298</td>\n",
              "    </tr>\n",
              "  </tbody>\n",
              "</table>\n",
              "</div>"
            ],
            "text/plain": [
              "            user_id  user_segment  ...  revenue_amount  cuped_revenue\n",
              "count  2.890420e+05  2.890420e+05  ...   289042.000000  289042.000000\n",
              "mean   4.603744e+18  2.822207e+18  ...      454.355104     454.355104\n",
              "std    2.670076e+18  1.318240e+18  ...     1073.386346    1024.766263\n",
              "min    3.923981e+13  8.534311e+17  ...        6.000000   -8369.290216\n",
              "25%    2.281932e+18  2.376074e+18  ...       98.000000     149.216090\n",
              "50%    4.610470e+18  2.376074e+18  ...      195.000000     235.175020\n",
              "75%    6.917290e+18  4.626945e+18  ...      470.000000     481.372505\n",
              "max    9.223367e+18  4.626945e+18  ...   113469.000000  110115.780298\n",
              "\n",
              "[8 rows x 6 columns]"
            ]
          },
          "metadata": {
            "tags": []
          },
          "execution_count": 181
        }
      ]
    },
    {
      "cell_type": "code",
      "metadata": {
        "id": "yRpPa44lnXmD"
      },
      "source": [
        "def mde_30_getter(data, share, grouper, metric, start_date):\n",
        "    start_date = pd.to_datetime(start_date)\n",
        "    sample_vols = []\n",
        "    \n",
        "    #получаем необходимую подвыборку\n",
        "    x1 = choose_date(data, start_date, 30, share, grouper) \n",
        "\n",
        "    mean = x1[metric].mean()\n",
        "    std = x1[metric].std()\n",
        "    \n",
        "    alpha = 0.05\n",
        "    power = 0.8\n",
        "    # целевой размер относительного отклоенения исходной метрики\n",
        "    result_effect = 0.04 \n",
        "    effect_size = (mean / std) * result_effect\n",
        "\n",
        "    sample_vol = tt_ind_solve_power(effect_size = effect_size,\n",
        "                                    alpha = alpha,\n",
        "                                    power = power,\n",
        "                                    nobs1 = None,\n",
        "                                    ratio = 1,\n",
        "                                    alternative = 'two-sided',\n",
        "                                    )\n",
        "\n",
        "    return metric, 30, sample_vol / x1.shape[0], share"
      ],
      "execution_count": null,
      "outputs": []
    },
    {
      "cell_type": "code",
      "metadata": {
        "colab": {
          "base_uri": "https://localhost:8080/"
        },
        "id": "8Aa1Peovm__F",
        "outputId": "611e1972-b970-4a4b-bba5-0c597c18008f"
      },
      "source": [
        "mde_30_getter(test_dates_df, share=0.5, grouper='user_id', metric='revenue_amount', start_date='2019-12-01')"
      ],
      "execution_count": null,
      "outputs": [
        {
          "output_type": "stream",
          "text": [
            "df_len = 289042\n",
            "x_len = 144395, 49.96%, share = 0.5\n"
          ],
          "name": "stdout"
        },
        {
          "output_type": "execute_result",
          "data": {
            "text/plain": [
              "('revenue_amount', 30, 0.35271210445593626, 0.5)"
            ]
          },
          "metadata": {
            "tags": []
          },
          "execution_count": 188
        }
      ]
    },
    {
      "cell_type": "code",
      "metadata": {
        "colab": {
          "base_uri": "https://localhost:8080/"
        },
        "id": "JgyIbwFAqaVo",
        "outputId": "f94c7210-c58c-4b34-e7de-d928e3b8bfb8"
      },
      "source": [
        "mde_30_getter(test_dates_df, share=0.5, grouper='user_id', metric='cuped_revenue', start_date='2019-12-01')"
      ],
      "execution_count": null,
      "outputs": [
        {
          "output_type": "stream",
          "text": [
            "df_len = 289042\n",
            "x_len = 144395, 49.96%, share = 0.5\n"
          ],
          "name": "stdout"
        },
        {
          "output_type": "execute_result",
          "data": {
            "text/plain": [
              "('cuped_revenue', 30, 0.3235409573174574, 0.5)"
            ]
          },
          "metadata": {
            "tags": []
          },
          "execution_count": 189
        }
      ]
    },
    {
      "cell_type": "code",
      "metadata": {
        "id": "Lni5GPyKqvsT"
      },
      "source": [
        "def revenue_mde_getter(df):\n",
        "    min_date = df['event_date'].min()\n",
        "    max_date = df['event_date'].max()\n",
        "    pers = df['event_date'].dt.month.unique()\n",
        "    idx = pd.date_range(min_date + timedelta(days=20), end=max_date - timedelta(days=61), periods = len(pers) - 3)\n",
        "    mdes = []\n",
        "    cuped_mdes = []\n",
        "    \n",
        "    for month in idx: \n",
        "        pre_dates_df = df[(df['event_date'] >= month) & (df['event_date'] <= month + timedelta(days=30))]\n",
        "        test_dates_df = df[(df['event_date'] > month + timedelta(days=31)) & (df['event_date'] <= month + timedelta(days=61))]\n",
        "    \n",
        "        pre_metric = pre_dates_df[['user_id', 'revenue_amount']].groupby('user_id').sum()\n",
        "        pre_metric = pre_metric.rename(columns={'revenue_amount': 'pre_revenue'})\n",
        "\n",
        "        test_dates_df = test_dates_df.merge(pre_metric, left_on='user_id', right_index=True)\n",
        "\n",
        "        test_dates_df['pre_mean'] = test_dates_df['pre_revenue'].mean()\n",
        "        theta = np.cov(test_dates_df.revenue_amount, test_dates_df.pre_revenue, ddof=1)[1, 0] / np.var(test_dates_df.pre_revenue, ddof=1)\n",
        "        corr = np.corrcoef([test_dates_df.revenue_amount, test_dates_df.pre_revenue])[1, 0]\n",
        "        test_dates_df['cuped_revenue'] = test_dates_df.revenue_amount - theta * (test_dates_df.pre_revenue - test_dates_df.pre_mean)\n",
        "\n",
        "        test_dates_df.drop(['pre_revenue', 'pre_mean'], axis=1, inplace=True)\n",
        "\n",
        "        mdes.append(mde_30_getter(test_dates_df, share=0.5, grouper='user_id', metric='revenue_amount', start_date=month + timedelta(days=31)))\n",
        "        cuped_mdes.append(mde_30_getter(test_dates_df, share=0.5, grouper='user_id', metric='cuped_revenue', start_date=month + timedelta(days=31)))\n",
        "    return mdes, cuped_mdes, idx"
      ],
      "execution_count": 236,
      "outputs": []
    },
    {
      "cell_type": "code",
      "metadata": {
        "colab": {
          "base_uri": "https://localhost:8080/"
        },
        "id": "UUzCLI28sVLD",
        "outputId": "eb86d98d-9f05-4ca8-d146-66609a9a5bdd"
      },
      "source": [
        "mdes, cuped_mdes, idx = revenue_mde_getter(df)"
      ],
      "execution_count": 237,
      "outputs": [
        {
          "output_type": "stream",
          "text": [
            "df_len = 981051\n",
            "x_len = 489669, 49.91%, share = 0.5\n",
            "df_len = 981051\n",
            "x_len = 489669, 49.91%, share = 0.5\n",
            "df_len = 1065147\n",
            "x_len = 532467, 49.99%, share = 0.5\n",
            "df_len = 1065147\n",
            "x_len = 532467, 49.99%, share = 0.5\n",
            "df_len = 1027680\n",
            "x_len = 513598, 49.98%, share = 0.5\n",
            "df_len = 1027680\n",
            "x_len = 513598, 49.98%, share = 0.5\n",
            "df_len = 954991\n",
            "x_len = 477746, 50.03%, share = 0.5\n",
            "df_len = 954991\n",
            "x_len = 477746, 50.03%, share = 0.5\n"
          ],
          "name": "stdout"
        }
      ]
    },
    {
      "cell_type": "code",
      "metadata": {
        "colab": {
          "base_uri": "https://localhost:8080/"
        },
        "id": "96E2EOM3verU",
        "outputId": "e3415afb-8193-4711-9a42-b3fcacb2f49b"
      },
      "source": [
        "for i in range(len(mdes)):\n",
        "    print(f'Result for {idx[i].month} month: for {mdes[i][0]} we have to prolong test in {mdes[i][2]:.3} times, but for {cuped_mdes[i][0]} only in {cuped_mdes[i][2]:.3} times.')"
      ],
      "execution_count": 239,
      "outputs": [
        {
          "output_type": "stream",
          "text": [
            "Result for 7 month: for revenue_amount we have to prolong test in 0.0964 times, but for cuped_revenue only in 0.0905 times.\n",
            "Result for 8 month: for revenue_amount we have to prolong test in 0.0979 times, but for cuped_revenue only in 0.0919 times.\n",
            "Result for 9 month: for revenue_amount we have to prolong test in 0.151 times, but for cuped_revenue only in 0.14 times.\n",
            "Result for 10 month: for revenue_amount we have to prolong test in 0.109 times, but for cuped_revenue only in 0.0987 times.\n"
          ],
          "name": "stdout"
        }
      ]
    },
    {
      "cell_type": "markdown",
      "metadata": {
        "id": "U-qobbT3x43u"
      },
      "source": [
        "Пробуем достичь max MDE"
      ]
    },
    {
      "cell_type": "code",
      "metadata": {
        "id": "PDifs6huxNQo",
        "colab": {
          "base_uri": "https://localhost:8080/"
        },
        "outputId": "2b2259f4-48eb-414b-dd56-bdcbc4227a75"
      },
      "source": [
        "min_date = df['event_date'].min()\n",
        "max_date = df['event_date'].max()\n",
        "\n",
        "pre_dates_df = df[df['event_date'] <= max_date - timedelta(days=31)]\n",
        "test_dates_df = df[df['event_date'] > max_date - timedelta(days=31)]\n",
        "\n",
        "pre_metric = pre_dates_df[['user_id', 'revenue_amount']].groupby('user_id').sum()\n",
        "pre_metric = pre_metric.rename(columns={'revenue_amount': 'pre_revenue'})\n",
        "\n",
        "test_dates_df = test_dates_df.merge(pre_metric, left_on='user_id', right_index=True)\n",
        "\n",
        "test_dates_df['pre_mean'] = test_dates_df['pre_revenue'].mean()\n",
        "theta = np.cov(test_dates_df.revenue_amount, test_dates_df.pre_revenue, ddof=1)[1, 0] / np.var(test_dates_df.pre_revenue, ddof=1)\n",
        "corr = np.corrcoef([test_dates_df.revenue_amount, test_dates_df.pre_revenue])[1, 0]\n",
        "test_dates_df['cuped_revenue'] = test_dates_df.revenue_amount - theta * (test_dates_df.pre_revenue - test_dates_df.pre_mean)\n",
        "\n",
        "test_dates_df.drop(['pre_revenue', 'pre_mean'], axis=1, inplace=True)\n",
        "\n",
        "mde_max = mde_30_getter(test_dates_df, share=0.5, grouper='user_id', metric='revenue_amount', start_date = max_date - timedelta(days=31))\n",
        "cuped_mde_max = mde_30_getter(test_dates_df, share=0.5, grouper='user_id', metric='cuped_revenue', start_date = max_date - timedelta(days=31))\n",
        "\n",
        "print(f'For {mde_max[0]} we have to prolong test in {mde_max[2]:.3} times, but for {cuped_mde_max[0]} only in {cuped_mde_max[2]:.3} times.')"
      ],
      "execution_count": 240,
      "outputs": [
        {
          "output_type": "stream",
          "text": [
            "df_len = 1141983\n",
            "x_len = 571117, 50.01%, share = 0.5\n",
            "df_len = 1141983\n",
            "x_len = 571117, 50.01%, share = 0.5\n",
            "For revenue_amount we have to prolong test in 0.0896 times, but for cuped_revenue only in 0.0818 times.\n"
          ],
          "name": "stdout"
        }
      ]
    },
    {
      "cell_type": "code",
      "metadata": {
        "colab": {
          "base_uri": "https://localhost:8080/"
        },
        "id": "KLg81JBEyqas",
        "outputId": "8702ef2b-956f-40ed-f688-e4311461b77e"
      },
      "source": [
        "print(f'We can take {(mde_max[2] - cuped_mde_max[2]) / mde_max[2]:.2%} less observations, woohoo!')"
      ],
      "execution_count": 243,
      "outputs": [
        {
          "output_type": "stream",
          "text": [
            "We can take 8.71% less observations, woohoo!\n"
          ],
          "name": "stdout"
        }
      ]
    },
    {
      "cell_type": "code",
      "metadata": {
        "id": "JBCvxNhIzDO_"
      },
      "source": [
        ""
      ],
      "execution_count": null,
      "outputs": []
    }
  ]
}